{
 "cells": [
  {
   "cell_type": "code",
   "execution_count": 1,
   "metadata": {
    "collapsed": false
   },
   "outputs": [
    {
     "name": "stderr",
     "output_type": "stream",
     "text": [
      "/home/ankit/anaconda2/lib/python2.7/site-packages/sklearn/cross_validation.py:44: DeprecationWarning: This module was deprecated in version 0.18 in favor of the model_selection module into which all the refactored classes and functions are moved. Also note that the interface of the new CV iterators are different from that of this module. This module will be removed in 0.20.\n",
      "  \"This module will be removed in 0.20.\", DeprecationWarning)\n"
     ]
    }
   ],
   "source": [
    "import numpy as np\n",
    "import tensorflow as tf\n",
    "from sklearn import datasets\n",
    "from sklearn.cross_validation import train_test_split\n",
    "import pylab as pl\n",
    "from IPython import display\n",
    "import pandas as pd\n",
    "import sys\n",
    "%matplotlib inline"
   ]
  },
  {
   "cell_type": "code",
   "execution_count": 2,
   "metadata": {
    "collapsed": false
   },
   "outputs": [],
   "source": [
    "def getFeatures(df):\n",
    "    window_size = 1000\n",
    "    total_batch = int(len(df)/window_size)\n",
    "    trainX = pd.DataFrame()\n",
    "    # Loop over all batches\n",
    "    for i in range(total_batch):\n",
    "        n = min(window_size, len(df)-i*window_size)\n",
    "        df_win = df[i*window_size:i*window_size+n]\n",
    "        group = df_win.groupby(['SrcAddr'])\n",
    "        train_win = group.Sport.nunique()\n",
    "        train_win = pd.DataFrame(train_win)\n",
    "        train_win['udest_ip'] = group.DstAddr.nunique()\n",
    "        train_win['udest_port'] = group.Dport.nunique()\n",
    "        train_win['netflows'] = group.Dport.count()\n",
    "        train_win['uproto'] = group.Proto.nunique()\n",
    "        temp = group.Proto.value_counts().unstack().fillna(0)\n",
    "        try:\n",
    "            train_win['tcp'] = temp['tcp']\n",
    "        except:\n",
    "            train_win['tcp'] = group.Dport.count()*0\n",
    "        try:\n",
    "            train_win['udp'] = temp['udp']\n",
    "        except:\n",
    "             train_win['udp'] = group.Dport.count()*0\n",
    "        train_win['bytes'] = group.TotBytes.sum()\n",
    "        train_win['packets'] = group.TotPkts.sum()\n",
    "        train_win['Label'] = (group.Label.sum()*1.0/group.Dport.count())> 0\n",
    "        trainX = pd.concat([trainX,train_win],axis=0)    \n",
    "    return trainX"
   ]
  },
  {
   "cell_type": "code",
   "execution_count": 3,
   "metadata": {
    "collapsed": false
   },
   "outputs": [],
   "source": [
    "import random\n",
    "\n",
    "def somerows(x, n):\n",
    "    return x.sample(n=n)\n",
    "\n",
    "def selectFlows(filename):\n",
    "    df = pd.read_csv(filename)\n",
    "    df['Label'] = df.Label.str.contains(\"Botnet\")\n",
    "    dft = getFeatures(df)\n",
    "    dfB = dft[dft['Label'] == True]\n",
    "    dfN = dft[dft['Label'] == False]\n",
    "    dfN = somerows(dfN,len(dfB))\n",
    "#     print len(dfB)\n",
    "#     print len(dfN)\n",
    "    df = pd.concat([dfB,dfN],axis=0)   \n",
    "    df = df.sample(frac=1).reset_index(drop=True)\n",
    "    return df\n",
    "\n",
    "def selectFlowsTest(filename):\n",
    "    df = pd.read_csv(filename)\n",
    "    df['Label'] = df.Label.str.contains(\"Botnet\")\n",
    "    df = getFeatures(df)\n",
    "    return df"
   ]
  },
  {
   "cell_type": "code",
   "execution_count": 4,
   "metadata": {
    "collapsed": false,
    "scrolled": true
   },
   "outputs": [
    {
     "name": "stderr",
     "output_type": "stream",
     "text": [
      "/home/ankit/anaconda2/lib/python2.7/site-packages/pandas/core/groupby.py:2930: FutureWarning: numpy not_equal will not check object identity in the future. The comparison did not return the same result as suggested by the identity (`is`)) and will change.\n",
      "  inc = np.r_[1, val[1:] != val[:-1]]\n"
     ]
    },
    {
     "name": "stdout",
     "output_type": "stream",
     "text": [
      "3456\n",
      "10712\n"
     ]
    }
   ],
   "source": [
    "dfTrain = pd.DataFrame()\n",
    "df1 = selectFlows(\"/home/ankit/Desktop/MTP/Database/CTU-13-Dataset/3/capture20110812.binetflow\")\n",
    "dfTrain = pd.concat([dfTrain,df1],axis=0) \n",
    "df1 = selectFlows(\"/home/ankit/Desktop/MTP/Database/CTU-13-Dataset/4/capture20110815.binetflow\")\n",
    "dfTrain = pd.concat([dfTrain,df1],axis=0) \n",
    "df1 = selectFlows(\"/home/ankit/Desktop/MTP/Database/CTU-13-Dataset/5/capture20110815-2.binetflow\")\n",
    "dfTrain = pd.concat([dfTrain,df1],axis=0) \n",
    "df1 = selectFlows(\"/home/ankit/Desktop/MTP/Database/CTU-13-Dataset/7/capture20110816-2.binetflow\")\n",
    "dfTrain = pd.concat([dfTrain,df1],axis=0) \n",
    "print len(dfTrain)\n",
    "df1 = selectFlows(\"/home/ankit/Desktop/MTP/Database/CTU-13-Dataset/10/capture20110818.binetflow\")\n",
    "dfTrain = pd.concat([dfTrain,df1],axis=0) \n",
    "df1 = selectFlows(\"/home/ankit/Desktop/MTP/Database/CTU-13-Dataset/11/capture20110818-2.binetflow\")\n",
    "dfTrain = pd.concat([dfTrain,df1],axis=0) \n",
    "df1 = selectFlows(\"/home/ankit/Desktop/MTP/Database/CTU-13-Dataset/12/capture20110819.binetflow\")\n",
    "dfTrain = pd.concat([dfTrain,df1],axis=0) \n",
    "df1 = selectFlows(\"/home/ankit/Desktop/MTP/Database/CTU-13-Dataset/13/capture20110815-3.binetflow\")\n",
    "dfTrain = pd.concat([dfTrain,df1],axis=0) \n",
    "\n",
    "\n",
    "# df1 = pd.read_csv(\"/home/ankit/Desktop/MTP/working_directory/Binenetflow/ISCX_Botnet-Training.biargus.binetflow\")\n",
    "# #Add Label to flows\n",
    "# df1['Label'] = pd.Series(np.zeros(len(df1['Dur'])), index=df1.index)\n",
    "# malicious_ips = \"192.168.2.112 131.202.243.84 192.168.5.122 198.164.30.2 192.168.2.110 192.168.4.118 192.168.2.113 192.168.1.103 192.168.4.120 192.168.2.112 192.168.2.109 192.168.2.105 147.32.84.180 147.32.84.170 147.32.84.150 147.32.84.140 147.32.84.130 147.32.84.160 10.0.2.15 192.168.106.141 192.168.106.131 172.16.253.130 172.16.253.131 172.16.253.129 172.16.253.240 74.78.117.238 158.65.110.24 192.168.3.35 192.168.3.25 192.168.3.65 172.29.0.116 172.29.0.109 172.16.253.132 192.168.248.165 10.37.130.4\"\n",
    "# malicious_ips = malicious_ips.split()\n",
    "\n",
    "# for i in malicious_ips:\n",
    "#     df1.loc[df1[\"SrcAddr\"] == i,\"Label\"] = 1\n",
    "\n",
    "# df1 = getFeatures(df1)\n",
    "# dfTrain = pd.concat([dfTrain,df1],axis=0) \n",
    "    \n",
    "print len(dfTrain)"
   ]
  },
  {
   "cell_type": "code",
   "execution_count": 5,
   "metadata": {
    "collapsed": false
   },
   "outputs": [
    {
     "name": "stdout",
     "output_type": "stream",
     "text": [
      "32400\n"
     ]
    }
   ],
   "source": [
    "dfTest = pd.DataFrame()\n",
    "df1 = selectFlows(\"/home/ankit/Desktop/MTP/Database/CTU-13-Dataset/1/capture20110810.binetflow\")\n",
    "dfTest = pd.concat([dfTest,df1],axis=0) \n",
    "df1 = selectFlows(\"/home/ankit/Desktop/MTP/Database/CTU-13-Dataset/2/capture20110811.binetflow\")\n",
    "dfTest = pd.concat([dfTest,df1],axis=0) \n",
    "df1 = selectFlows(\"/home/ankit/Desktop/MTP/Database/CTU-13-Dataset/6/capture20110816.binetflow\")\n",
    "dfTest = pd.concat([dfTest,df1],axis=0) \n",
    "df1 = selectFlows(\"/home/ankit/Desktop/MTP/Database/CTU-13-Dataset/8/capture20110816-3.binetflow\")\n",
    "dfTest = pd.concat([dfTest,df1],axis=0) \n",
    "df1 = selectFlows(\"/home/ankit/Desktop/MTP/Database/CTU-13-Dataset/9/capture20110817.binetflow\")\n",
    "dfTest = pd.concat([dfTest,df1],axis=0)\n",
    "\n",
    "\n",
    "# df1 = pd.read_csv(\"/home/ankit/Desktop/MTP/working_directory/Binenetflow/ISCX_Botnet-Testing.biargus.binenetflow\")\n",
    "# #Add Label to flows\n",
    "# df1['Label'] = pd.Series(np.zeros(len(df1['Dur'])), index=df1.index)\n",
    "# malicious_ips = \"192.168.2.112 131.202.243.84 192.168.5.122 198.164.30.2 192.168.2.110 192.168.4.118 192.168.2.113 192.168.1.103 192.168.4.120 192.168.2.112 192.168.2.109 192.168.2.105 147.32.84.180 147.32.84.170 147.32.84.150 147.32.84.140 147.32.84.130 147.32.84.160 10.0.2.15 192.168.106.141 192.168.106.131 172.16.253.130 172.16.253.131 172.16.253.129 172.16.253.240 74.78.117.238 158.65.110.24 192.168.3.35 192.168.3.25 192.168.3.65 172.29.0.116 172.29.0.109 172.16.253.132 192.168.248.165 10.37.130.4\"\n",
    "# malicious_ips = malicious_ips.split()\n",
    "\n",
    "# for i in malicious_ips:\n",
    "#     df1.loc[df1[\"SrcAddr\"] == i,\"Label\"] = 1\n",
    "\n",
    "# df1 = getFeatures(df1)\n",
    "# dfTest = pd.concat([dfTest,df1],axis=0) \n",
    "\n",
    "print len(dfTest)"
   ]
  },
  {
   "cell_type": "code",
   "execution_count": 6,
   "metadata": {
    "collapsed": false
   },
   "outputs": [],
   "source": [
    "def getXY(df):\n",
    "    temp = pd.get_dummies(df.Label)\n",
    "    temp = pd.DataFrame(temp)\n",
    "    Y = temp.as_matrix()\n",
    "    X = df.copy()\n",
    "    del X['Label']\n",
    "    X = (X - X.mean()) / (X.max() - X.min())\n",
    "    X = X.as_matrix()\n",
    "    return X,Y"
   ]
  },
  {
   "cell_type": "code",
   "execution_count": 7,
   "metadata": {
    "collapsed": false
   },
   "outputs": [],
   "source": [
    "trainX, trainY = getXY(dfTest)\n",
    "\n",
    "testX, testY = getXY(dfTrain)"
   ]
  },
  {
   "cell_type": "code",
   "execution_count": 8,
   "metadata": {
    "collapsed": false,
    "scrolled": true
   },
   "outputs": [
    {
     "data": {
      "image/png": "[encoded data removed]",
      "text/plain": [
       "<matplotlib.figure.Figure at 0x7f2a8d00df10>"
      ]
     },
     "metadata": {},
     "output_type": "display_data"
    },
    {
     "name": "stdout",
     "output_type": "stream",
     "text": [
      "Iteration: 490 Loss: 0.477595062995 Train Accuracy: 0.88679 Test Accuracy: 0.893764 Optimization Finished!\n",
      "('Accuracy:', 0.89376402)\n"
     ]
    },
    {
     "data": {
      "image/png": "[encoded data removed]",
      "text/plain": [
       "<matplotlib.figure.Figure at 0x7f2a8d00df10>"
      ]
     },
     "metadata": {},
     "output_type": "display_data"
    }
   ],
   "source": [
    "tf.reset_default_graph()\n",
    "# Create model\n",
    "def multilayer_perceptron(x, weights, biases,keep_prob):\n",
    "    # Hidden layer with RELU activation\n",
    "    layer_11 = tf.add(tf.matmul(x, weights['h1']), biases['b1'])\n",
    "    layer_11 = tf.nn.sigmoid(layer_11)\n",
    "    layer_11 = tf.nn.dropout(layer_11, keep_prob)\n",
    "    layer_12 = tf.add(tf.matmul(x, weights['h2']), biases['b2'])\n",
    "    layer_12 = tf.nn.tanh(layer_12)\n",
    "    layer_12 = tf.nn.dropout(layer_12, keep_prob)\n",
    "    layer_1 = tf.mul(layer_11, layer_12)\n",
    "    layer_1 = tf.nn.sigmoid(layer_1)\n",
    "    layer_1 = tf.nn.dropout(layer_1, keep_prob)\n",
    "    out_layer = tf.matmul(layer_1, weights['out']) + biases['out']\n",
    "    return out_layer\n",
    "\n",
    "#Parameters\n",
    "learning_rate = 0.0001\n",
    "training_epochs = 500\n",
    "batch_size = 100\n",
    "display_step = 10\n",
    "\n",
    "#Network Parameters\n",
    "n_hidden = 40\n",
    "\n",
    "n_input = 9\n",
    "n_classes = 2\n",
    "# tf Graph input\n",
    "with tf.name_scope('input'):\n",
    "    x = tf.placeholder(\"float\", [None, n_input],'x')\n",
    "    y = tf.placeholder(\"float\", [None, n_classes],'y')\n",
    "    keep_prob = tf.placeholder(tf.float32)\n",
    "\n",
    "# Store layers weight & bias\n",
    "with tf.name_scope(\"weights\"):\n",
    "    weights = {\n",
    "        'h1': tf.Variable(tf.random_normal([n_input, n_hidden]),name='wh1'),\n",
    "        'h2': tf.Variable(tf.random_normal([n_input, n_hidden]),name='wh2'),\n",
    "        'out': tf.Variable(tf.random_normal([n_hidden, n_classes]),name='wo')\n",
    "        }\n",
    "with tf.name_scope(\"biases\"):\n",
    "    biases = {\n",
    "        'b1': tf.Variable(tf.random_normal([n_hidden]),name='b1'),\n",
    "        'b2': tf.Variable(tf.random_normal([n_hidden]),name='b2'),\n",
    "        'out': tf.Variable(tf.random_normal([n_classes]),name='bo')\n",
    "    }\n",
    "# Construct model\n",
    "with tf.name_scope(\"Model\"):\n",
    "    pred = multilayer_perceptron(x, weights, biases,keep_prob)\n",
    "\n",
    "# Define loss and optimizer\n",
    "with tf.name_scope(\"Cost\"):\n",
    "    cost = tf.reduce_mean(tf.nn.softmax_cross_entropy_with_logits(logits=pred, labels=y))\n",
    "with tf.name_scope('Optimizer'):\n",
    "    optimizer = tf.train.AdamOptimizer(learning_rate=learning_rate).minimize(cost)\n",
    "# Initializing the variables\n",
    "init = tf.initialize_all_variables()\n",
    "\n",
    "# Test model\n",
    "with tf.name_scope(\"accuracy\"):\n",
    "    correct_prediction = tf.equal(tf.argmax(pred, 1), tf.argmax(y, 1))\n",
    "    # Calculate accuracy\n",
    "    accuracy = tf.reduce_mean(tf.cast(correct_prediction, \"float\"))\n",
    "\n",
    "# tf.scalar_summary(\"cost\",cost)\n",
    "# tf.scalar_summary(\"accuracy\", accuracy)\n",
    "\n",
    "# tf.histogram_summary(\"weight1\",weights['h1'])\n",
    "# tf.histogram_summary(\"weight2\",weights['h2'])\n",
    "# tf.histogram_summary(\"weighto\",weights['out'])\n",
    "# tf.histogram_summary(\"bias1\",biases['b1'])\n",
    "# tf.histogram_summary(\"bias2\",biases['b2'])\n",
    "# tf.histogram_summary(\"biaso\",biases['out'])\n",
    "\n",
    "# summary_op = tf.merge_all_summaries()\n",
    "#Launch the graph\n",
    "sess = tf.InteractiveSession()\n",
    "# writer = tf.train.SummaryWriter(\"./logs/nn_logs\",sess.graph)\n",
    "sess.run(init)\n",
    "# Training cycle\n",
    "for epoch in range(training_epochs):\n",
    "    avg_cost = 0.\n",
    "    total_batch = int(len(trainX)/batch_size)\n",
    "    # Loop over all batches\n",
    "    for i in range(total_batch):\n",
    "        n = min(batch_size, len(trainX)-i*batch_size)\n",
    "        batch_x = trainX[i*batch_size:i*batch_size+n]\n",
    "        batch_y = trainY[i*batch_size:i*batch_size+n]\n",
    "        # Run optimization op (backprop) and cost op (to get loss value)\n",
    "        _, c = sess.run([optimizer, cost], feed_dict={x: batch_x,y: batch_y,keep_prob : 0.5})\n",
    "        # Compute average loss\n",
    "        avg_cost += c / total_batch\n",
    "    # Display logs per epoch step\n",
    "    if epoch % display_step == 0:\n",
    "        #Write summary\n",
    "#         summary = sess.run([summary_op], feed_dict={x: batch_x, y: batch_y, keep_prob: 1})\n",
    "#         writer.add_summary(summary[0], epoch)\n",
    "        # Calculate batch accuracy\n",
    "        Train_accuracy = accuracy.eval({x: trainX, y: trainY, keep_prob : 1.0})\n",
    "        # Calculate batch loss\n",
    "        loss = avg_cost\n",
    "        Test_accuracy=accuracy.eval({x: testX, y: testY,keep_prob : 1.0})    \n",
    "        pl.plot([epoch],loss,'b.',label='loss' if epoch == 0 else \"\")\n",
    "        pl.plot([epoch],Train_accuracy,'r*',label='Train Accuracy' if epoch == 0 else \"\")\n",
    "        pl.plot([epoch],Test_accuracy,'g+',label='Test Accuracy'if epoch == 0 else \"\")\n",
    "        pl.legend(loc='bottom right')\n",
    "        pl.xlabel('Iterations')\n",
    "        pl.ylim(0.4, 1.2)\n",
    "        display.clear_output(wait=True)\n",
    "        display.display(pl.gcf())   \n",
    "        sys.stdout.flush()\n",
    "        print(\"\\rIteration: %s Loss: %s Train Accuracy: %s Test Accuracy: %s\"%(epoch,loss,Train_accuracy,Test_accuracy)),\n",
    "        sys.stdout.flush()\n",
    "print(\"Optimization Finished!\")\n",
    "    \n",
    "print(\"Accuracy:\", accuracy.eval({x: testX, y: testY,keep_prob : 1.0}))\n",
    "prediction=tf.argmax(pred,1)\n",
    "out =  prediction.eval(feed_dict={x: testX,keep_prob : 1.0})"
   ]
  },
  {
   "cell_type": "code",
   "execution_count": 9,
   "metadata": {
    "collapsed": false
   },
   "outputs": [
    {
     "name": "stdout",
     "output_type": "stream",
     "text": [
      "[[4984  766]\n",
      " [ 372 4590]]\n"
     ]
    }
   ],
   "source": [
    "from sklearn.metrics import confusion_matrix\n",
    "print confusion_matrix(out, np.argmax(testY,1)) #0 = normal"
   ]
  },
  {
   "cell_type": "code",
   "execution_count": 10,
   "metadata": {
    "collapsed": false
   },
   "outputs": [
    {
     "name": "stdout",
     "output_type": "stream",
     "text": [
      "('Accuracy:', 0.91710973)\n",
      "[[2004  278]\n",
      " [  65 1791]]\n"
     ]
    }
   ],
   "source": [
    "dfT = pd.DataFrame()\n",
    "df1 = selectFlows(\"/home/ankit/Desktop/MTP/Database/CTU-13-Dataset/1/capture20110810.binetflow\")\n",
    "dfT = pd.concat([dfT,df1],axis=0) \n",
    "tX, tY = getXY(dfT)\n",
    "\n",
    "print(\"Accuracy:\", accuracy.eval({x: tX, y: tY,keep_prob : 1.0}))\n",
    "prediction=tf.argmax(pred,1)\n",
    "out =  prediction.eval(feed_dict={x: tX,keep_prob : 1.0})\n",
    "print confusion_matrix(out, np.argmax(tY,1))"
   ]
  },
  {
   "cell_type": "code",
   "execution_count": 11,
   "metadata": {
    "collapsed": false
   },
   "outputs": [
    {
     "name": "stdout",
     "output_type": "stream",
     "text": [
      "('Accuracy:', 0.88766521)\n",
      "[[1319  263]\n",
      " [  43 1099]]\n"
     ]
    }
   ],
   "source": [
    "dfT = pd.DataFrame()\n",
    "df1 = selectFlows(\"/home/ankit/Desktop/MTP/Database/CTU-13-Dataset/2/capture20110811.binetflow\")\n",
    "dfT = pd.concat([dfT,df1],axis=0) \n",
    "tX, tY = getXY(dfT)\n",
    "\n",
    "print(\"Accuracy:\", accuracy.eval({x: tX, y: tY,keep_prob : 1.0}))\n",
    "prediction=tf.argmax(pred,1)\n",
    "out =  prediction.eval(feed_dict={x: tX,keep_prob : 1.0})\n",
    "print confusion_matrix(out, np.argmax(tY,1))"
   ]
  },
  {
   "cell_type": "code",
   "execution_count": 12,
   "metadata": {
    "collapsed": false
   },
   "outputs": [
    {
     "name": "stdout",
     "output_type": "stream",
     "text": [
      "('Accuracy:', 0.84434968)\n",
      "[[422  99]\n",
      " [ 47 370]]\n"
     ]
    }
   ],
   "source": [
    "dfT = pd.DataFrame()\n",
    "df1 = selectFlows(\"/home/ankit/Desktop/MTP/Database/CTU-13-Dataset/6/capture20110816.binetflow\")\n",
    "dfT = pd.concat([dfT,df1],axis=0) \n",
    "tX, tY = getXY(dfT)\n",
    "\n",
    "print(\"Accuracy:\", accuracy.eval({x: tX, y: tY,keep_prob : 1.0}))\n",
    "prediction=tf.argmax(pred,1)\n",
    "out =  prediction.eval(feed_dict={x: tX,keep_prob : 1.0})\n",
    "print confusion_matrix(out, np.argmax(tY,1))"
   ]
  },
  {
   "cell_type": "code",
   "execution_count": 13,
   "metadata": {
    "collapsed": false
   },
   "outputs": [
    {
     "name": "stdout",
     "output_type": "stream",
     "text": [
      "('Accuracy:', 0.62445885)\n",
      "[[1288  943]\n",
      " [  98  443]]\n"
     ]
    }
   ],
   "source": [
    "dfT = pd.DataFrame()\n",
    "df1 = selectFlows(\"/home/ankit/Desktop/MTP/Database/CTU-13-Dataset/8/capture20110816-3.binetflow\")\n",
    "dfT = pd.concat([dfT,df1],axis=0) \n",
    "tX, tY = getXY(dfT)\n",
    "\n",
    "print(\"Accuracy:\", accuracy.eval({x: tX, y: tY,keep_prob : 1.0}))\n",
    "prediction=tf.argmax(pred,1)\n",
    "out =  prediction.eval(feed_dict={x: tX,keep_prob : 1.0})\n",
    "print confusion_matrix(out, np.argmax(tY,1))"
   ]
  },
  {
   "cell_type": "code",
   "execution_count": 14,
   "metadata": {
    "collapsed": false
   },
   "outputs": [
    {
     "name": "stdout",
     "output_type": "stream",
     "text": [
      "('Accuracy:', 0.94658238)\n",
      "[[10318   570]\n",
      " [  596 10344]]\n"
     ]
    }
   ],
   "source": [
    "dfT = pd.DataFrame()\n",
    "df1 = selectFlows(\"/home/ankit/Desktop/MTP/Database/CTU-13-Dataset/9/capture20110817.binetflow\")\n",
    "dfT = pd.concat([dfT,df1],axis=0) \n",
    "tX, tY = getXY(dfT)\n",
    "\n",
    "print(\"Accuracy:\", accuracy.eval({x: tX, y: tY,keep_prob : 1.0}))\n",
    "prediction=tf.argmax(pred,1)\n",
    "out =  prediction.eval(feed_dict={x: tX,keep_prob : 1.0})\n",
    "print confusion_matrix(out, np.argmax(tY,1))"
   ]
  },
  {
   "cell_type": "code",
   "execution_count": 15,
   "metadata": {
    "collapsed": true
   },
   "outputs": [],
   "source": [
    "sess.close()"
   ]
  },
  {
   "cell_type": "code",
   "execution_count": null,
   "metadata": {
    "collapsed": true
   },
   "outputs": [],
   "source": []
  }
 ],
 "metadata": {
  "anaconda-cloud": {},
  "kernelspec": {
   "display_name": "Python 2",
   "language": "python",
   "name": "python2"
  },
  "language_info": {
   "codemirror_mode": {
    "name": "ipython",
    "version": 2
   },
   "file_extension": ".py",
   "mimetype": "text/x-python",
   "name": "python",
   "nbconvert_exporter": "python",
   "pygments_lexer": "ipython2",
   "version": "2.7.13"
  }
 },
 "nbformat": 4,
 "nbformat_minor": 1
}
