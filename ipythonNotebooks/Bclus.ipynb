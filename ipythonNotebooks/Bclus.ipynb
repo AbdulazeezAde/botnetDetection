{
 "cells": [
  {
   "cell_type": "code",
   "execution_count": 132,
   "metadata": {
    "collapsed": false
   },
   "outputs": [],
   "source": [
    "#Netflows are total count of occurence of a src_ip in a particular window\n",
    "import pandas as pd\n",
    "import numpy as np\n",
    "#Edit path to the file for extracting features\n",
    "def getFeatures(file_path):\n",
    "    df=pd.read_csv(file_path)\n",
    "    temp = pd.get_dummies(df.Tag)\n",
    "    df['attack'] = temp.Attack\n",
    "    df['normal'] = temp.Normal\n",
    "    del temp, df['Tag']\n",
    "    group = df.groupby(['bucket','source'])\n",
    "    features = group.sourcePort.nunique()\n",
    "    features = pd.DataFrame(features)\n",
    "    features.rename(columns={'sourcePort':'usrc_port'},inplace=True)\n",
    "    features['udest_ip'] = group.destination.nunique()\n",
    "    features['udest_port'] = group.destinationPort.nunique()\n",
    "    features['netflows'] = group.destination.count()\n",
    "    features['bytes'] = group.totalSourceBytes.sum()\n",
    "    features['packets'] = group.totalSourcePackets.sum()\n",
    "    features['attack'] = group.attack.sum()\n",
    "    features['normal'] = group.normal.sum()\n",
    "    features.reset_index(inplace=True) \n",
    "    return features\n",
    "    \n",
    "def featurestoArray(features):\n",
    "    #Converting DF to np array\n",
    "    features_array = features.copy()\n",
    "    del features_array['attack'],features_array['normal'],features_array['source'],features_array['bucket']\n",
    "    features_array = features_array.as_matrix()\n",
    "    return features_array\n",
    "\n",
    "def getClusterFeatures(labeled_features):\n",
    "    group = labeled_features.groupby(['label'])\n",
    "    clusterfeatures = group.bucket.count()\n",
    "    clusterfeatures = pd.DataFrame(clusterfeatures)\n",
    "    clusterfeatures.rename(columns={'bucket':'instances'},inplace=True) \n",
    "    clusterfeatures['netflows']=group.netflows.sum()\n",
    "    clusterfeatures['avgnetflows']=group.netflows.mean()\n",
    "    clusterfeatures['stdnetflows']=group.netflows.std()\n",
    "    clusterfeatures['usrc_ip']=group.source.nunique()\n",
    "    clusterfeatures['avgsrc_port']=group.usrc_port.mean()\n",
    "    clusterfeatures['stdsrc_port']=group.usrc_port.std()\n",
    "    clusterfeatures['avgdest_ip']=group.udest_ip.mean()\n",
    "    clusterfeatures['stddest_ip']=group.udest_ip.std()\n",
    "    clusterfeatures['avgdest_port']=group.udest_port.mean()\n",
    "    clusterfeatures['stddest_port']=group.udest_port.std()\n",
    "    clusterfeatures['avgbytes']=group.bytes.mean()\n",
    "    clusterfeatures['stdbytes']=group.bytes.std()\n",
    "    clusterfeatures['avgpackets']=group.packets.mean()\n",
    "    clusterfeatures['stdpackets']=group.packets.std()\n",
    "    clusterfeatures['attack']=group.attack.sum()\n",
    "    clusterfeatures['normal']=group.normal.sum()\n",
    "    #True = Botnet    False = Normal\n",
    "    clusterfeatures['label'] = (group.attack.sum()/group.normal.sum()>0.01)\n",
    "    return clusterfeatures"
   ]
  },
  {
   "cell_type": "code",
   "execution_count": 133,
   "metadata": {
    "collapsed": true
   },
   "outputs": [],
   "source": [
    "def getLabeledFeaturesGMM(features_array):\n",
    "    X_train = features_array\n",
    "    from sklearn import mixture\n",
    "    #Number of clusters = number of components\n",
    "    # Four covariance Type ['spherical', 'diag', 'tied', 'full'] iterations can be changed\n",
    "    clf = mixture.GMM(n_components=40, covariance_type='full', n_iter=100)\n",
    "    label = clf.fit_predict(X_train)\n",
    "    return label           \n",
    "\n",
    "def addLabelTofeatures(features, label):\n",
    "    labeled_features = features.copy()\n",
    "    labeled_features['label'] = label\n",
    "    return labeled_features"
   ]
  },
  {
   "cell_type": "code",
   "execution_count": 134,
   "metadata": {
    "collapsed": false,
    "scrolled": true
   },
   "outputs": [],
   "source": [
    "from sklearn.cross_validation import train_test_split\n",
    "from sklearn.preprocessing import Imputer \n",
    "features = getFeatures(file_path=\"/home/ankit/Desktop/MTP/working_directory/NDF/13Junflow_ndf.csv\")\n",
    "X_train, X_test = train_test_split(features, test_size=0.3,random_state=0)\n",
    "#X_train = getFeatures(file_path=\"F:/MTP/working_directory/ndf3.csv\")\n",
    "#X_train"
   ]
  },
  {
   "cell_type": "code",
   "execution_count": 78,
   "metadata": {
    "collapsed": false
   },
   "outputs": [],
   "source": [
    "#Reading unlabelled test file\n",
    "#X_test\n",
    "# df=pd.read_csv(\"F:/MTP/working_directory/17Jan_df_bucket.csv\")\n",
    "# group = df.groupby(['bucket','SrcAddr'])\n",
    "# X_test = group.Sport.nunique()\n",
    "# X_test = pd.DataFrame(X_test)\n",
    "# X_test['udest_ip'] = group.DstAddr.nunique()\n",
    "# X_test['udest_port'] = group.Dport.nunique()\n",
    "# X_test['netflows'] = group.DstAddr.count()\n",
    "# X_test['bytes'] = group.TotBytes.sum()\n",
    "# X_test['packets'] = group.sTos.sum()\n",
    "# X_test['attack'] = group.sTos.sum() #dummy\n",
    "# X_test['normal'] = group.sTos.sum() #dummy\n",
    "# X_test.reset_index(inplace=True) \n",
    "# X_test.rename(columns={'Sport':'usrc_port'},inplace=True)\n",
    "# X_test.rename(columns={'SrcAddr':'source'},inplace=True)\n",
    "# X_test\n",
    "#df"
   ]
  },
  {
   "cell_type": "markdown",
   "metadata": {},
   "source": [
    "Converting Dataframe to numpy object"
   ]
  },
  {
   "cell_type": "code",
   "execution_count": 135,
   "metadata": {
    "collapsed": false
   },
   "outputs": [],
   "source": [
    "feature_array = featurestoArray(features=X_train)\n",
    "label = getLabeledFeaturesGMM(features_array=feature_array)\n",
    "X_train = addLabelTofeatures(features=X_train,label=label)\n",
    "train_cluster_features = getClusterFeatures(labeled_features=X_train) \n",
    "train_labels = train_cluster_features['label']\n",
    "del train_cluster_features['attack'],train_cluster_features['normal'],train_cluster_features['label']\n",
    "train_cluster_features = Imputer.fit_transform(Imputer(strategy=\"most_frequent\",axis=0),train_cluster_features)\n",
    "\n",
    "\n",
    "feature_array = featurestoArray(features=X_test)\n",
    "label = getLabeledFeaturesGMM(features_array=feature_array)\n",
    "X_test = addLabelTofeatures(features=X_test,label=label)\n",
    "test_cluster_features = getClusterFeatures(labeled_features=X_test)\n",
    "test_labels = test_cluster_features['label']\n",
    "del test_cluster_features['attack'],test_cluster_features['normal'],test_cluster_features['label'] \n",
    "test_cluster_features = Imputer.fit_transform(Imputer(strategy=\"most_frequent\",axis=0),test_cluster_features)\n",
    "del feature_array"
   ]
  },
  {
   "cell_type": "code",
   "execution_count": 136,
   "metadata": {
    "collapsed": false
   },
   "outputs": [],
   "source": [
    "train_cluster_features = train_cluster_features.astype(np.float32)\n",
    "test_cluster_features = test_cluster_features.astype(np.float32)\n",
    "train_labels = train_labels.astype(np.float32)\n",
    "test_labels = test_labels.astype(np.float32)"
   ]
  },
  {
   "cell_type": "code",
   "execution_count": 137,
   "metadata": {
    "collapsed": true
   },
   "outputs": [],
   "source": [
    "#normalize cluster features\n",
    "import sklearn.preprocessing\n",
    "train_cluster_features= sklearn.preprocessing.normalize(train_cluster_features,axis=0)\n",
    "test_cluster_features= sklearn.preprocessing.normalize(test_cluster_features,axis=0)"
   ]
  },
  {
   "cell_type": "code",
   "execution_count": 142,
   "metadata": {
    "collapsed": false
   },
   "outputs": [],
   "source": [
    "#from sklearn.model_selection import cross_val_score\n",
    "from sklearn.tree import DecisionTreeClassifier\n",
    "clf = DecisionTreeClassifier(random_state=0)\n",
    "clf.fit(train_cluster_features,train_labels)\n",
    "cluster_label_predict=clf.predict(test_cluster_features)"
   ]
  },
  {
   "cell_type": "code",
   "execution_count": 151,
   "metadata": {
    "collapsed": false
   },
   "outputs": [
    {
     "ename": "TypeError",
     "evalue": "unsupported operand type(s) for -: 'list' and 'list'",
     "output_type": "error",
     "traceback": [
      "\u001b[0;31m---------------------------------------------------------------------------\u001b[0m",
      "\u001b[0;31mTypeError\u001b[0m                                 Traceback (most recent call last)",
      "\u001b[0;32m<ipython-input-151-084e9abdf1bb>\u001b[0m in \u001b[0;36m<module>\u001b[0;34m()\u001b[0m\n\u001b[1;32m      1\u001b[0m \u001b[0;32mfrom\u001b[0m \u001b[0msklearn\u001b[0m\u001b[0;34m.\u001b[0m\u001b[0mmetrics\u001b[0m \u001b[0;32mimport\u001b[0m \u001b[0mconfusion_matrix\u001b[0m\u001b[0;34m\u001b[0m\u001b[0m\n\u001b[1;32m      2\u001b[0m \u001b[0;31m#confusion_matrix(test_labels, label_predicted)\u001b[0m\u001b[0;34m\u001b[0m\u001b[0;34m\u001b[0m\u001b[0m\n\u001b[0;32m----> 3\u001b[0;31m \u001b[0msum\u001b[0m\u001b[0;34m(\u001b[0m\u001b[0mabs\u001b[0m\u001b[0;34m(\u001b[0m\u001b[0mlabel_predicted\u001b[0m\u001b[0;34m-\u001b[0m\u001b[0mtest_labels\u001b[0m\u001b[0;34m)\u001b[0m\u001b[0;34m)\u001b[0m\u001b[0;34m\u001b[0m\u001b[0m\n\u001b[0m\u001b[1;32m      4\u001b[0m \u001b[0mtemp\u001b[0m \u001b[0;34m=\u001b[0m \u001b[0mX_test\u001b[0m\u001b[0;34m.\u001b[0m\u001b[0mgroupby\u001b[0m\u001b[0;34m(\u001b[0m\u001b[0;34m[\u001b[0m\u001b[0;34m'label'\u001b[0m\u001b[0;34m]\u001b[0m\u001b[0;34m)\u001b[0m\u001b[0;34m\u001b[0m\u001b[0m\n\u001b[1;32m      5\u001b[0m \u001b[0mt\u001b[0m \u001b[0;34m=\u001b[0m \u001b[0mtemp\u001b[0m\u001b[0;34m.\u001b[0m\u001b[0mpackets\u001b[0m\u001b[0;34m.\u001b[0m\u001b[0mcount\u001b[0m\u001b[0;34m(\u001b[0m\u001b[0;34m)\u001b[0m\u001b[0;34m\u001b[0m\u001b[0m\n",
      "\u001b[0;31mTypeError\u001b[0m: unsupported operand type(s) for -: 'list' and 'list'"
     ]
    }
   ],
   "source": [
    "from sklearn.metrics import confusion_matrix\n",
    "#confusion_matrix(test_labels, label_predicted)\n",
    "print sum(abs(label_predicted-test_labels))\n",
    "temp = X_test.groupby(['label'])\n",
    "t = temp.packets.count()\n",
    "label_predicted = [-1 if e == 0 else e for e in label_predicted]\n",
    "test_labels = [-1 if e == 0 else e for e in test_labels]\n",
    "\n",
    "pred = [a*b for a,b in zip(label_predicted,t)]\n",
    "act =  [a*b for a,b in zip(test_labels,t)]\n",
    "pp =0\n",
    "pn = 0\n",
    "nn = 0\n",
    "np = 0\n",
    "for a,b in zip(pred,act):\n",
    "    if a>0 and b>0:\n",
    "        pp +=1;\n",
    "    elif a<0 and b<0:\n",
    "        nn += 1;\n",
    "    elif a>0 and b<0:\n",
    "        pn += 1;\n",
    "    else :\n",
    "        np += 1;\n",
    "print(pp)\n",
    "print(nn)\n",
    "print(np)\n",
    "print(pn)"
   ]
  },
  {
   "cell_type": "code",
   "execution_count": 147,
   "metadata": {
    "collapsed": false
   },
   "outputs": [
    {
     "data": {
      "text/plain": [
       "array(['131.202.240.218', '192.168.1.105', '192.168.1.101',\n",
       "       '192.168.4.119', '192.168.3.115', '192.168.2.111', '192.168.4.118',\n",
       "       '192.168.2.113', '0.0.0.0', '192.168.3.117', '192.168.3.116',\n",
       "       '192.168.3.114', '192.168.2.112', '192.168.2.108', '192.168.2.107',\n",
       "       '192.168.5.123', '192.168.2.110', '192.168.5.122', '192.168.2.106',\n",
       "       '192.168.4.120', '192.168.1.102', '192.168.1.104', '192.168.2.109',\n",
       "       '192.168.1.103', '192.168.4.121', '131.202.243.90',\n",
       "       '64.237.127.131', '142.167.88.44', '63.111.123.26',\n",
       "       '210.188.199.237'], dtype=object)"
      ]
     },
     "execution_count": 147,
     "metadata": {},
     "output_type": "execute_result"
    }
   ],
   "source": [
    "X_test['pred'] = [label_predicted[x[0]] for x in zip(X_test['label'])]\n",
    "X_test['act_label'] = [test_labels[x[0]] for x in zip(X_test['label'])]\n",
    "X_test.source.unique()"
   ]
  },
  {
   "cell_type": "code",
   "execution_count": 148,
   "metadata": {
    "collapsed": false,
    "scrolled": true
   },
   "outputs": [
    {
     "data": {
      "text/plain": [
       "array(['192.168.4.119', '192.168.2.111', '192.168.2.112', '192.168.5.122',\n",
       "       '192.168.4.120', '192.168.1.104', '192.168.2.109', '192.168.3.117',\n",
       "       '192.168.3.115', '192.168.2.106', '192.168.1.101', '192.168.4.118',\n",
       "       '192.168.2.110', '192.168.2.107', '192.168.4.121', '192.168.1.105',\n",
       "       '192.168.1.102', '192.168.1.103', '0.0.0.0', '192.168.2.108',\n",
       "       '192.168.2.113', '192.168.3.114', '192.168.3.116', '192.168.5.123',\n",
       "       '142.167.88.44', '131.202.243.90'], dtype=object)"
      ]
     },
     "execution_count": 148,
     "metadata": {},
     "output_type": "execute_result"
    }
   ],
   "source": [
    "#X_test.columns\n",
    "malicious_IP = X_test.groupby(['pred']).get_group(1)['source']\n",
    "malicious_IP.unique()"
   ]
  },
  {
   "cell_type": "code",
   "execution_count": 149,
   "metadata": {
    "collapsed": false,
    "scrolled": true
   },
   "outputs": [
    {
     "data": {
      "text/plain": [
       "array(['131.202.240.218', '192.168.1.105', '192.168.3.115', '0.0.0.0',\n",
       "       '192.168.3.117', '192.168.3.116', '192.168.3.114', '192.168.2.108',\n",
       "       '192.168.5.123', '192.168.2.110', '192.168.2.107', '192.168.5.122',\n",
       "       '192.168.2.112', '192.168.1.102', '192.168.4.119', '192.168.1.104',\n",
       "       '192.168.2.106', '192.168.1.101', '192.168.2.113', '192.168.1.103',\n",
       "       '192.168.4.118', '192.168.2.111', '192.168.4.121', '192.168.2.109',\n",
       "       '192.168.4.120', '131.202.243.90', '64.237.127.131',\n",
       "       '142.167.88.44', '63.111.123.26', '210.188.199.237'], dtype=object)"
      ]
     },
     "execution_count": 149,
     "metadata": {},
     "output_type": "execute_result"
    }
   ],
   "source": [
    "malicious_act = X_test.groupby(['act_label']).get_group(1)['source']\n",
    "malicious_act.unique()"
   ]
  },
  {
   "cell_type": "code",
   "execution_count": 31,
   "metadata": {
    "collapsed": false
   },
   "outputs": [
    {
     "data": {
      "text/plain": [
       "0.0"
      ]
     },
     "execution_count": 31,
     "metadata": {},
     "output_type": "execute_result"
    }
   ],
   "source": [
    "from sklearn.naive_bayes import GaussianNB\n",
    "gnb = GaussianNB()\n",
    "gnb.fit(train_cluster_features,train_labels)\n",
    "label_predicted=gnb.predict(test_cluster_features)\n",
    "gnb.score(test_cluster_features,test_labels)"
   ]
  },
  {
   "cell_type": "code",
   "execution_count": null,
   "metadata": {
    "collapsed": true
   },
   "outputs": [],
   "source": []
  }
 ],
 "metadata": {
  "anaconda-cloud": {},
  "kernelspec": {
   "display_name": "Python 2",
   "language": "python",
   "name": "python2"
  },
  "language_info": {
   "codemirror_mode": {
    "name": "ipython",
    "version": 2
   },
   "file_extension": ".py",
   "mimetype": "text/x-python",
   "name": "python",
   "nbconvert_exporter": "python",
   "pygments_lexer": "ipython2",
   "version": "2.7.13"
  }
 },
 "nbformat": 4,
 "nbformat_minor": 0
}
