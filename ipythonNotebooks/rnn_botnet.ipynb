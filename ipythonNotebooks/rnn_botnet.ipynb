{
 "cells": [
  {
   "cell_type": "code",
   "execution_count": 1,
   "metadata": {
    "collapsed": false
   },
   "outputs": [
    {
     "name": "stderr",
     "output_type": "stream",
     "text": [
      "/home/ankit/anaconda2/lib/python2.7/site-packages/sklearn/cross_validation.py:44: DeprecationWarning: This module was deprecated in version 0.18 in favor of the model_selection module into which all the refactored classes and functions are moved. Also note that the interface of the new CV iterators are different from that of this module. This module will be removed in 0.20.\n",
      "  \"This module will be removed in 0.20.\", DeprecationWarning)\n"
     ]
    }
   ],
   "source": [
    "import numpy as np\n",
    "import tensorflow as tf\n",
    "from sklearn import datasets\n",
    "from sklearn.cross_validation import train_test_split\n",
    "import pylab as pl\n",
    "from IPython import display\n",
    "import pandas as pd\n",
    "import sys\n",
    "%matplotlib inline"
   ]
  },
  {
   "cell_type": "code",
   "execution_count": 2,
   "metadata": {
    "collapsed": false
   },
   "outputs": [],
   "source": [
    "def getFeatures(df):\n",
    "    window_size = 1000\n",
    "    total_batch = int(len(df)/window_size)\n",
    "    trainX = pd.DataFrame()\n",
    "    # Loop over all batches\n",
    "    for i in range(total_batch):\n",
    "        n = min(window_size, len(df)-i*window_size)\n",
    "        df_win = df[i*window_size:i*window_size+n]\n",
    "        group = df_win.groupby(['SrcAddr'])\n",
    "        train_win = group.Sport.nunique()\n",
    "        train_win = pd.DataFrame(train_win)\n",
    "        train_win['udest_ip'] = group.DstAddr.nunique()\n",
    "        train_win['udest_port'] = group.Dport.nunique()\n",
    "        train_win['netflows'] = group.Dport.count()\n",
    "        temp = pd.get_dummies(group.first()['Proto'])\n",
    "        try:\n",
    "            train_win['tcp'] = temp.tcp\n",
    "        except:\n",
    "            train_win['tcp'] = group.Dport.count()*0\n",
    "        try:\n",
    "            train_win['udp'] = temp.udp\n",
    "        except:\n",
    "             train_win['udp'] = group.Dport.count()*0\n",
    "        train_win['bytes'] = group.TotBytes.sum()\n",
    "        train_win['packets'] = group.TotPkts.sum()\n",
    "        train_win['Label'] = (group.Label.sum()*1.0/group.Dport.count())> 0\n",
    "        trainX = pd.concat([trainX,train_win],axis=0)    \n",
    "    return trainX"
   ]
  },
  {
   "cell_type": "code",
   "execution_count": 25,
   "metadata": {
    "collapsed": false
   },
   "outputs": [],
   "source": [
    "import random\n",
    "from sklearn.utils import shuffle\n",
    "\n",
    "def somerows(x, n):\n",
    "    return x.sample(n=n)\n",
    "\n",
    "def selectFlows(filename):\n",
    "    df = pd.read_csv(filename)\n",
    "    df['Label'] = df.Label.str.contains(\"Botnet\")\n",
    "    dft = getFeatures(df)\n",
    "    dfB = dft[dft['Label'] == True]\n",
    "    dfN = dft[dft['Label'] == False]\n",
    "    dfN = somerows(dfN,len(dfB))\n",
    "#     print len(dfB)\n",
    "#     print len(dfN)\n",
    "    df = pd.concat([dfB,dfN],axis=0)   \n",
    "    df = df.sample(frac=1).reset_index(drop=True)   \n",
    "    df = shuffle(df)\n",
    "    return df"
   ]
  },
  {
   "cell_type": "code",
   "execution_count": 26,
   "metadata": {
    "collapsed": false
   },
   "outputs": [
    {
     "name": "stdout",
     "output_type": "stream",
     "text": [
      "3456\n",
      "10712\n"
     ]
    }
   ],
   "source": [
    "dfTrain = pd.DataFrame()\n",
    "df1 = selectFlows(\"/home/ankit/Desktop/MTP/Database/CTU-13-Dataset/3/capture20110812.binetflow\")\n",
    "dfTrain = pd.concat([dfTrain,df1],axis=0) \n",
    "df1 = selectFlows(\"/home/ankit/Desktop/MTP/Database/CTU-13-Dataset/4/capture20110815.binetflow\")\n",
    "dfTrain = pd.concat([dfTrain,df1],axis=0) \n",
    "df1 = selectFlows(\"/home/ankit/Desktop/MTP/Database/CTU-13-Dataset/5/capture20110815-2.binetflow\")\n",
    "dfTrain = pd.concat([dfTrain,df1],axis=0) \n",
    "df1 = selectFlows(\"/home/ankit/Desktop/MTP/Database/CTU-13-Dataset/7/capture20110816-2.binetflow\")\n",
    "dfTrain = pd.concat([dfTrain,df1],axis=0) \n",
    "print len(dfTrain)\n",
    "df1 = selectFlows(\"/home/ankit/Desktop/MTP/Database/CTU-13-Dataset/10/capture20110818.binetflow\")\n",
    "dfTrain = pd.concat([dfTrain,df1],axis=0) \n",
    "df1 = selectFlows(\"/home/ankit/Desktop/MTP/Database/CTU-13-Dataset/11/capture20110818-2.binetflow\")\n",
    "dfTrain = pd.concat([dfTrain,df1],axis=0) \n",
    "df1 = selectFlows(\"/home/ankit/Desktop/MTP/Database/CTU-13-Dataset/12/capture20110819.binetflow\")\n",
    "dfTrain = pd.concat([dfTrain,df1],axis=0) \n",
    "df1 = selectFlows(\"/home/ankit/Desktop/MTP/Database/CTU-13-Dataset/13/capture20110815-3.binetflow\")\n",
    "dfTrain = pd.concat([dfTrain,df1],axis=0) \n",
    "\n",
    "\n",
    "# df1 = pd.read_csv(\"/home/ankit/Desktop/MTP/working_directory/Binenetflow/ISCX_Botnet-Training.biargus.binetflow\")\n",
    "# #Add Label to flows\n",
    "# df1['Label'] = pd.Series(np.zeros(len(df1['Dur'])), index=df1.index)\n",
    "# malicious_ips = \"192.168.2.112 131.202.243.84 192.168.5.122 198.164.30.2 192.168.2.110 192.168.4.118 192.168.2.113 192.168.1.103 192.168.4.120 192.168.2.112 192.168.2.109 192.168.2.105 147.32.84.180 147.32.84.170 147.32.84.150 147.32.84.140 147.32.84.130 147.32.84.160 10.0.2.15 192.168.106.141 192.168.106.131 172.16.253.130 172.16.253.131 172.16.253.129 172.16.253.240 74.78.117.238 158.65.110.24 192.168.3.35 192.168.3.25 192.168.3.65 172.29.0.116 172.29.0.109 172.16.253.132 192.168.248.165 10.37.130.4\"\n",
    "# malicious_ips = malicious_ips.split()\n",
    "\n",
    "# for i in malicious_ips:\n",
    "#     df1.loc[df1[\"SrcAddr\"] == i,\"Label\"] = 1\n",
    "\n",
    "# df1 = getFeatures(df1)\n",
    "# dfTrain = pd.concat([dfTrain,df1],axis=0) \n",
    "    \n",
    "print len(dfTrain)"
   ]
  },
  {
   "cell_type": "code",
   "execution_count": 27,
   "metadata": {
    "collapsed": false
   },
   "outputs": [
    {
     "name": "stdout",
     "output_type": "stream",
     "text": [
      "32400\n"
     ]
    }
   ],
   "source": [
    "dfTest = pd.DataFrame()\n",
    "df1 = selectFlows(\"/home/ankit/Desktop/MTP/Database/CTU-13-Dataset/1/capture20110810.binetflow\")\n",
    "dfTest = pd.concat([dfTest,df1],axis=0) \n",
    "df1 = selectFlows(\"/home/ankit/Desktop/MTP/Database/CTU-13-Dataset/2/capture20110811.binetflow\")\n",
    "dfTest = pd.concat([dfTest,df1],axis=0) \n",
    "df1 = selectFlows(\"/home/ankit/Desktop/MTP/Database/CTU-13-Dataset/6/capture20110816.binetflow\")\n",
    "dfTest = pd.concat([dfTest,df1],axis=0) \n",
    "df1 = selectFlows(\"/home/ankit/Desktop/MTP/Database/CTU-13-Dataset/8/capture20110816-3.binetflow\")\n",
    "dfTest = pd.concat([dfTest,df1],axis=0) \n",
    "df1 = selectFlows(\"/home/ankit/Desktop/MTP/Database/CTU-13-Dataset/9/capture20110817.binetflow\")\n",
    "dfTest = pd.concat([dfTest,df1],axis=0)\n",
    "\n",
    "\n",
    "# df1 = pd.read_csv(\"/home/ankit/Desktop/MTP/working_directory/Binenetflow/ISCX_Botnet-Testing.biargus.binenetflow\")\n",
    "# #Add Label to flows\n",
    "# df1['Label'] = pd.Series(np.zeros(len(df1['Dur'])), index=df1.index)\n",
    "# malicious_ips = \"192.168.2.112 131.202.243.84 192.168.5.122 198.164.30.2 192.168.2.110 192.168.4.118 192.168.2.113 192.168.1.103 192.168.4.120 192.168.2.112 192.168.2.109 192.168.2.105 147.32.84.180 147.32.84.170 147.32.84.150 147.32.84.140 147.32.84.130 147.32.84.160 10.0.2.15 192.168.106.141 192.168.106.131 172.16.253.130 172.16.253.131 172.16.253.129 172.16.253.240 74.78.117.238 158.65.110.24 192.168.3.35 192.168.3.25 192.168.3.65 172.29.0.116 172.29.0.109 172.16.253.132 192.168.248.165 10.37.130.4\"\n",
    "# malicious_ips = malicious_ips.split()\n",
    "\n",
    "# for i in malicious_ips:\n",
    "#     df1.loc[df1[\"SrcAddr\"] == i,\"Label\"] = 1\n",
    "\n",
    "# df1 = getFeatures(df1)\n",
    "# dfTest = pd.concat([dfTest,df1],axis=0) \n",
    "\n",
    "print len(dfTest)"
   ]
  },
  {
   "cell_type": "code",
   "execution_count": 28,
   "metadata": {
    "collapsed": false
   },
   "outputs": [],
   "source": [
    "def getXY(df):\n",
    "    temp = pd.get_dummies(df.Label)\n",
    "    temp = pd.DataFrame(temp)\n",
    "    Y = temp.as_matrix()\n",
    "    X = df.copy()\n",
    "    del X['Label']\n",
    "    X = (X - X.mean()) / (X.max() - X.min())\n",
    "    X = X.as_matrix()\n",
    "    return X,Y"
   ]
  },
  {
   "cell_type": "code",
   "execution_count": 29,
   "metadata": {
    "collapsed": false
   },
   "outputs": [],
   "source": [
    "from sklearn.utils import shuffle\n",
    "# dfTrain = shuffle(dfTrain)\n",
    "# dfTest = shuffle(dfTest)\n",
    "trainX, trainY = getXY(dfTest)\n",
    "testX, testY = getXY(dfTrain)\n",
    "seq_max_len = 1\n",
    "n_input = 8\n",
    "trainX = trainX.reshape(-1,seq_max_len,n_input)\n",
    "testX = testX.reshape(-1,seq_max_len,n_input)"
   ]
  },
  {
   "cell_type": "code",
   "execution_count": 30,
   "metadata": {
    "collapsed": false
   },
   "outputs": [
    {
     "name": "stderr",
     "output_type": "stream",
     "text": [
      "WARNING:tensorflow:<tensorflow.python.ops.rnn_cell.BasicLSTMCell object at 0x7f9ca30fced0>: Using a concatenated state is slower and will soon be deprecated.  Use state_is_tuple=True.\n"
     ]
    }
   ],
   "source": [
    "graph = tf.Graph()\n",
    "with graph.as_default():\n",
    "    # Parameters\n",
    "    learning_rate = 0.0001\n",
    "    training_iters = 50\n",
    "    batch_size = 100\n",
    "    display_step = 1\n",
    "\n",
    "    # Network Parameters\n",
    "    n_input = 8\n",
    "    seq_max_len = 1 # Sequence max lengths\n",
    "    n_hidden = 60 #hidden layer num of features\n",
    "    n_classes = 2 # MNIST total classes (0-9 digits)\n",
    "    n_layers = 2\n",
    "    # tf Graph input\n",
    "    x = tf.placeholder(\"float\", [None, seq_max_len, n_input])\n",
    "    y = tf.placeholder(\"float\", [None, n_classes])\n",
    "    \n",
    "    # Define weights\n",
    "    weights = {\n",
    "        # Hidden layer weights => 2*n_hidden because of forward + backward cells\n",
    "        'out': tf.Variable(tf.random_normal([n_hidden, n_classes]))\n",
    "    }\n",
    "    biases = {\n",
    "        'out': tf.Variable(tf.random_normal([n_classes]))\n",
    "    }\n",
    "\n",
    "    def RNN(x, weights, biases):\n",
    "\n",
    "        # Prepare data shape to match `bidirectional_rnn` function requirements\n",
    "        # Current data input shape: (batch_size, n_steps, n_input)\n",
    "        # Required shape: 'n_steps' tensors list of shape (batch_size, n_input)\n",
    "\n",
    "        # Permuting batch_size and n_steps\n",
    "        x = tf.transpose(x, [1, 0, 2])\n",
    "        # Reshape to (n_steps*batch_size, n_input)\n",
    "        x = tf.reshape(x, [-1, n_input])\n",
    "        # Split to get a list of 'n_steps' tensors of shape (batch_size, n_input)\n",
    "        x = tf.split(0, seq_max_len, x)\n",
    "\n",
    "        # Define lstm cell with tensorflow\n",
    "        lstm_cell = tf.nn.rnn_cell.BasicLSTMCell(n_hidden, forget_bias=1.0)\n",
    "        cell = tf.nn.rnn_cell.MultiRNNCell([lstm_cell] * n_layers)\n",
    "        #initial_state = lstm_cell.zero_state(batch_size, tf.float32)\n",
    "        # Get lstm cell output\n",
    "        outputs, _ = tf.nn.rnn(cell, x, dtype=tf.float32)\n",
    "        # Linear activation, using rnn inner loop last output\n",
    "        return tf.matmul(outputs[-1], weights['out']) + biases['out']\n",
    "\n",
    "    pred = RNN(x, weights, biases)\n",
    "\n",
    "    # Define loss and optimizer\n",
    "    cost = tf.reduce_mean(tf.nn.softmax_cross_entropy_with_logits(logits=pred, labels=y))\n",
    "    optimizer = tf.train.AdamOptimizer(learning_rate=learning_rate).minimize(cost)\n",
    "\n",
    "    # Evaluate model\n",
    "        correct_pred = tf.equal(tf.argmax(pred,1), tf.argmax(y,1))\n",
    "        accuracy = tf.reduce_mean(tf.cast(correct_pred, tf.float32))"
   ]
  },
  {
   "cell_type": "code",
   "execution_count": 31,
   "metadata": {
    "collapsed": false
   },
   "outputs": [
    {
     "data": {
      "image/png": "[encoded data removed]",
      "text/plain": [
       "<matplotlib.figure.Figure at 0x7f9ca30fc410>"
      ]
     },
     "metadata": {},
     "output_type": "display_data"
    },
    {
     "name": "stdout",
     "output_type": "stream",
     "text": [
      "Iteration: 49 Loss: 0.176942 Train Accuracy: 0.922191 Test Accuracy: 0.830937 Optimization Finished!\n",
      "('Training Accuracy:', 0.92219138)\n",
      "('Testing Accuracy:', 0.83093727)\n"
     ]
    },
    {
     "data": {
      "image/png": "[encoded data removed]",
      "text/plain": [
       "<matplotlib.figure.Figure at 0x7f9ca30fc410>"
      ]
     },
     "metadata": {},
     "output_type": "display_data"
    }
   ],
   "source": [
    "# Launch the graph\n",
    "with tf.Session(graph=graph) as sess:\n",
    "    # Initializing the variables\n",
    "    init = tf.initialize_all_variables()\n",
    "    sess.run(init)\n",
    "    # Keep training until reach max iterations\n",
    "    for iters in range(training_iters):\n",
    "        total_batch = int(len(trainX)/batch_size)\n",
    "        # Loop over all batches\n",
    "        for i in range(total_batch):\n",
    "            n = min(batch_size, len(trainX)-i*batch_size)\n",
    "            batch_x= trainX[i*batch_size:i*batch_size+n]\n",
    "            batch_y =trainY[i*batch_size:i*batch_size+n]\n",
    "            sess.run(optimizer, feed_dict={x: batch_x, y: batch_y})\n",
    "        if iters % display_step == 0:\n",
    "            # Calculate batch accuracy\n",
    "            Train_accuracy = sess.run(accuracy, feed_dict={x: trainX, y: trainY})\n",
    "            # Calculate batch loss\n",
    "            loss = sess.run(cost, feed_dict={x: trainX, y: trainY})\n",
    "            #testX = testX.reshape(-1,seq_max_len,n_input)\n",
    "            Test_accuracy=str(sess.run(accuracy,feed_dict={x:testX, y:testY}))    \n",
    "            pl.plot([iters],loss,'b.',)\n",
    "            pl.plot([iters],Train_accuracy,'r*',)\n",
    "            pl.plot([iters],Test_accuracy,'g+')\n",
    "            display.clear_output(wait=True)\n",
    "            display.display(pl.gcf())   \n",
    "            sys.stdout.flush()\n",
    "            print(\"\\rIteration: %s Loss: %s Train Accuracy: %s Test Accuracy: %s\"%(iters,loss,Train_accuracy,Test_accuracy)),\n",
    "            sys.stdout.flush()\n",
    "    print(\"Optimization Finished!\")\n",
    "    \n",
    "    print(\"Training Accuracy:\", \\\n",
    "    sess.run(accuracy, feed_dict={x:trainX, y:trainY}))\n",
    "\n",
    "    print(\"Testing Accuracy:\", \\\n",
    "    sess.run(accuracy, feed_dict={x:testX, y:testY}))\n",
    "    prediction=tf.argmax(pred,1)\n",
    "    out =  prediction.eval(feed_dict={x: testX})"
   ]
  },
  {
   "cell_type": "code",
   "execution_count": 32,
   "metadata": {
    "collapsed": false
   },
   "outputs": [
    {
     "data": {
      "text/plain": [
       "array([[5177, 1632],\n",
       "       [ 179, 3724]])"
      ]
     },
     "execution_count": 32,
     "metadata": {},
     "output_type": "execute_result"
    }
   ],
   "source": [
    "from sklearn.metrics import confusion_matrix\n",
    "confusion_matrix(out, np.argmax(testY,1)) #0 = normal"
   ]
  },
  {
   "cell_type": "code",
   "execution_count": 165,
   "metadata": {
    "collapsed": false
   },
   "outputs": [
    {
     "data": {
      "text/plain": [
       "32400"
      ]
     },
     "execution_count": 165,
     "metadata": {},
     "output_type": "execute_result"
    }
   ],
   "source": [
    "len(trainX)"
   ]
  },
  {
   "cell_type": "code",
   "execution_count": null,
   "metadata": {
    "collapsed": true
   },
   "outputs": [],
   "source": []
  }
 ],
 "metadata": {
  "kernelspec": {
   "display_name": "Python 2",
   "language": "python",
   "name": "python2"
  },
  "language_info": {
   "codemirror_mode": {
    "name": "ipython",
    "version": 2
   },
   "file_extension": ".py",
   "mimetype": "text/x-python",
   "name": "python",
   "nbconvert_exporter": "python",
   "pygments_lexer": "ipython2",
   "version": "2.7.13"
  }
 },
 "nbformat": 4,
 "nbformat_minor": 2
}
