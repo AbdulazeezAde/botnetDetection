{
 "cells": [
  {
   "cell_type": "code",
   "execution_count": 2,
   "metadata": {
    "collapsed": false
   },
   "outputs": [],
   "source": [
    "import numpy as np\n",
    "import tensorflow as tf\n",
    "from sklearn import datasets\n",
    "from sklearn.cross_validation import train_test_split\n",
    "import pylab as pl\n",
    "from IPython import display\n",
    "import pandas as pd\n",
    "import sys\n",
    "%matplotlib inline"
   ]
  },
  {
   "cell_type": "code",
   "execution_count": 16,
   "metadata": {
    "collapsed": true
   },
   "outputs": [],
   "source": [
    "n_input = 13 \n",
    "seq_max_len = 200 # Sequence max lengths\n",
    "n_classes = 2 # MNIST total classes (0-9 digits)\n",
    "    \n",
    "def getDesired(df):\n",
    "    group = df.groupby(['SrcAddr'])\n",
    "    df_X = []\n",
    "    df_Y = pd.DataFrame(columns=['0','1'])\n",
    "    df_len = []\n",
    "\n",
    "    for i in group:\n",
    "        temp =  i[1].copy()\n",
    "        temp['Label']\n",
    "        if sum(temp.Label)/len(temp) == 0:\n",
    "            df_Y = df_Y.append(pd.Series({'0':1, '1':0}),ignore_index=True)\n",
    "        else:\n",
    "            df_Y = df_Y.append(pd.Series({'0':0, '1':1}),ignore_index=True)\n",
    "        df_len.append(len(temp))\n",
    "        del temp['Label'], temp['SrcAddr']\n",
    "        A = temp.as_matrix()\n",
    "        #A = A.reshape(-1,len(A)*n_input)\n",
    "        B = np.pad(A, ((0,(seq_max_len-len(A))), (0,0)), mode= 'constant')\n",
    "        #np.pad(x, ((0,10), (0,0)), mode='constant', constant_values=42)\n",
    "        B = B.reshape(-1,seq_max_len, n_input)\n",
    "        df_X.append(B)\n",
    "    df_X = np.asarray(df_X)\n",
    "    df_X = df_X.reshape(-1,seq_max_len,n_input)\n",
    "    df_Y = df_Y.as_matrix()\n",
    "    df_len = np.asarray(df_len)\n",
    "    df_len = df_len.reshape(-1,)\n",
    "    return df_X,df_Y, df_len"
   ]
  },
  {
   "cell_type": "code",
   "execution_count": 18,
   "metadata": {
    "collapsed": false,
    "scrolled": true
   },
   "outputs": [
    {
     "name": "stdout",
     "output_type": "stream",
     "text": [
      "Index([u'   ->', u'   ?>', u'  <->', u'  <?>', u'  who'], dtype='object')\n"
     ]
    },
    {
     "name": "stderr",
     "output_type": "stream",
     "text": [
      "/home/ankit/anaconda2/lib/python2.7/site-packages/ipykernel/__main__.py:38: FutureWarning: convert_objects is deprecated.  Use the data-type specific converters pd.to_datetime, pd.to_timedelta and pd.to_numeric.\n"
     ]
    }
   ],
   "source": [
    "dfTrain = pd.read_csv(\"/home/ankit/Desktop/MTP/working_directory/Binenetflow/ISCX_Botnet-Training.biargus.binetflow\")\n",
    "#df1 = pd.read_csv(\"/home/ankit/Desktop/MTP/working_directory/Binenetflow/ISCX_Botnet-Testing.biargus.binenetflow\")\n",
    "#dfTrain = pd.DataFrame.append(dfTrain,df1)\n",
    "#Add Label to flows\n",
    "dfTrain['Label'] = pd.Series(np.zeros(len(dfTrain['Dur'])), index=dfTrain.index)\n",
    "malicious_ips = \"192.168.2.112 131.202.243.84 192.168.5.122 198.164.30.2 192.168.2.110 192.168.4.118 192.168.2.113 192.168.1.103 192.168.4.120 192.168.2.112 192.168.2.109 192.168.2.105 147.32.84.180 147.32.84.170 147.32.84.150 147.32.84.140 147.32.84.130 147.32.84.160 10.0.2.15 192.168.106.141 192.168.106.131 172.16.253.130 172.16.253.131 172.16.253.129 172.16.253.240 74.78.117.238 158.65.110.24 192.168.3.35 192.168.3.25 192.168.3.65 172.29.0.116 172.29.0.109 172.16.253.132 192.168.248.165 10.37.130.4\"\n",
    "malicious_ips = malicious_ips.split()\n",
    "\n",
    "for i in malicious_ips:\n",
    "    dfTrain.loc[dfTrain[\"SrcAddr\"] == i,\"Label\"] = 1\n",
    "\n",
    "dfsTrain = pd.DataFrame()\n",
    "dfsTrain['SrcAddr'] = dfTrain['SrcAddr']\n",
    "dfsTrain['Dur'] = dfTrain['Dur']\n",
    "dfsTrain['Label'] = dfTrain['Label']\n",
    "#dfsTrain['Sport'] = dfTrain['Sport']\n",
    "#dfsTrain['Dport'] = dfTrain['Dport']\n",
    "\n",
    "dfsTrain['SrcBytes'] = dfTrain['SrcBytes']\n",
    "dfsTrain['TotBytes'] = dfTrain['TotBytes']\n",
    "dfsTrain['TotPkts'] = dfTrain['TotPkts']\n",
    "dfsTrain['sTos'] = dfTrain['sTos']\n",
    "dfsTrain['dTos'] = dfTrain['dTos']\n",
    "# dfsTrain['sTtl'] = dfTrain['sTtl']\n",
    "# dfsTrain['dTtl'] = df/Train['dTtl']\n",
    "# dfsTrain['sHops'] = dfTrain['sHops']\n",
    "# dfsTrain['dHops'] = dfTrain['dHops']\n",
    "#Dir State\n",
    "temp = pd.get_dummies(dfTrain.Dir)\n",
    "print temp.columns\n",
    "#del temp['  <-']\n",
    "dfsTrain = pd.concat([dfsTrain,temp],axis=1)\n",
    "\n",
    "temp = pd.get_dummies(dfTrain.Proto)\n",
    "dfsTrain['tcp'] = temp.tcp\n",
    "dfsTrain['udp'] = temp.udp\n",
    "del dfTrain\n",
    "dfsTrain = dfsTrain.convert_objects(convert_numeric=True)\n",
    "dfsTrain = dfsTrain.fillna(0)\n",
    "#trainX = dfsTrain.copy()\n",
    "# trainY = pd.get_dummies(dfsTrain.Label)\n",
    "# trainY = trainY.as_matrix()\n",
    "# del trainX['Label']\n",
    "# trainX = trainX.as_matrix()\n",
    "# trainX = trainX.reshape(-1,seq_max_len,n_input)\n",
    "# print trainX.shape\n",
    "# print trainY.shape"
   ]
  },
  {
   "cell_type": "code",
   "execution_count": 19,
   "metadata": {
    "collapsed": false
   },
   "outputs": [
    {
     "name": "stdout",
     "output_type": "stream",
     "text": [
      "(14757, 200, 13)\n",
      "(14757, 2)\n",
      "(14757,)\n"
     ]
    }
   ],
   "source": [
    "df = dfsTrain\n",
    "total_batch = int(len(df)/seq_max_len)\n",
    "# Loop over all batches\n",
    "X = np.empty(shape=(0,seq_max_len,n_input))\n",
    "Y = np.empty(shape=(0,2))\n",
    "L = np.empty(shape=(0,))\n",
    "for i in range(total_batch):\n",
    "    n = min(seq_max_len, len(df)-i*seq_max_len)\n",
    "    batch_x, batch_y, batch_len = getDesired(df[i*seq_max_len:i*seq_max_len+n])\n",
    "    X = np.concatenate((X, batch_x))\n",
    "    Y = np.concatenate((Y, batch_y))\n",
    "    L = np.concatenate((L, batch_len))\n",
    "\n",
    "trainX = X\n",
    "trainY = Y\n",
    "trainL = L\n",
    "print trainX.shape\n",
    "print trainY.shape\n",
    "print trainL.shape"
   ]
  },
  {
   "cell_type": "code",
   "execution_count": 21,
   "metadata": {
    "collapsed": false
   },
   "outputs": [
    {
     "name": "stdout",
     "output_type": "stream",
     "text": [
      "Index([u'   ->', u'   ?>', u'  <->', u'  <?>', u'  who'], dtype='object')\n"
     ]
    },
    {
     "name": "stderr",
     "output_type": "stream",
     "text": [
      "/home/ankit/anaconda2/lib/python2.7/site-packages/ipykernel/__main__.py:34: FutureWarning: convert_objects is deprecated.  Use the data-type specific converters pd.to_datetime, pd.to_timedelta and pd.to_numeric.\n"
     ]
    }
   ],
   "source": [
    "dfTest = pd.read_csv(\"/home/ankit/Desktop/MTP/working_directory/Binenetflow/ISCX_Botnet-Testing.biargus.binenetflow\")\n",
    "#Add Label to flows\n",
    "dfTest['Label'] = pd.Series(np.zeros(len(dfTest['Dur'])), index=dfTest.index)\n",
    "malicious_ips = \"192.168.2.112 131.202.243.84 192.168.5.122 198.164.30.2 192.168.2.110 192.168.4.118 192.168.2.113 192.168.1.103 192.168.4.120 192.168.2.112 192.168.2.109 192.168.2.105 147.32.84.180 147.32.84.170 147.32.84.150 147.32.84.140 147.32.84.130 147.32.84.160 10.0.2.15 192.168.106.141 192.168.106.131 172.16.253.130 172.16.253.131 172.16.253.129 172.16.253.240 74.78.117.238 158.65.110.24 192.168.3.35 192.168.3.25 192.168.3.65 172.29.0.116 172.29.0.109 172.16.253.132 192.168.248.165 10.37.130.4\"\n",
    "malicious_ips = malicious_ips.split()\n",
    "\n",
    "for i in malicious_ips:\n",
    "    dfTest.loc[dfTest[\"SrcAddr\"] == i,\"Label\"] = 1\n",
    "\n",
    "dfsTest = pd.DataFrame()\n",
    "dfsTest['SrcAddr'] = dfTest['SrcAddr']\n",
    "dfsTest['Dur'] = dfTest['Dur']\n",
    "dfsTest['Label'] = dfTest['Label']\n",
    "#dfsTest['Sport'] = dfTest['Sport']\n",
    "#dfsTest['Dport'] = dfTest['Dport']\n",
    "dfsTest['SrcBytes'] = dfTest['SrcBytes']\n",
    "dfsTest['TotBytes'] = dfTest['TotBytes']\n",
    "dfsTest['TotPkts'] = dfTest['TotPkts']\n",
    "dfsTest['sTos'] = dfTest['sTos']\n",
    "dfsTest['dTos'] = dfTest['dTos']\n",
    "# dfsTest['sTtl'] = dfTest['sTtl']\n",
    "# dfsTest['dTtl'] = dfTest['dTtl']\n",
    "#dfsTest['sHops'] = dfTest['sHops']\n",
    "#dfsTest['dHops'] = dfTest['dHops']\n",
    "temp = pd.get_dummies(dfTest.Dir)\n",
    "del temp['  <-']\n",
    "print temp.columns\n",
    "dfsTest = pd.concat([dfsTest,temp],axis=1)\n",
    "\n",
    "temp = pd.get_dummies(dfTest.Proto)\n",
    "dfsTest['tcp'] = temp.tcp\n",
    "dfsTest['udp'] = temp.udp\n",
    "del dfTest\n",
    "dfsTest = dfsTest.convert_objects(convert_numeric=True)\n",
    "\n",
    "dfsTest = dfsTest.fillna(0)"
   ]
  },
  {
   "cell_type": "code",
   "execution_count": 22,
   "metadata": {
    "collapsed": false
   },
   "outputs": [
    {
     "name": "stdout",
     "output_type": "stream",
     "text": [
      "(8706, 200, 13)\n",
      "(8706, 2)\n",
      "(8706,)\n"
     ]
    }
   ],
   "source": [
    "df = dfsTest\n",
    "total_batch = int(len(df)/seq_max_len)\n",
    "# Loop over all batches\n",
    "X = np.empty(shape=(0,seq_max_len,n_input))\n",
    "Y = np.empty(shape=(0,2))\n",
    "L = np.empty(shape=(0,))\n",
    "for i in range(total_batch):\n",
    "    n = min(seq_max_len, len(df)-i*seq_max_len)\n",
    "    batch_x, batch_y, batch_len = getDesired(df[i*seq_max_len:i*seq_max_len+n])\n",
    "    X = np.concatenate((X, batch_x))\n",
    "    Y = np.concatenate((Y, batch_y))\n",
    "    L = np.concatenate((L, batch_len))\n",
    "\n",
    "testX = X\n",
    "testY = Y\n",
    "testL = L\n",
    "print testX.shape\n",
    "print testY.shape\n",
    "print testL.shape"
   ]
  },
  {
   "cell_type": "code",
   "execution_count": null,
   "metadata": {
    "collapsed": false
   },
   "outputs": [],
   "source": [
    "# dfsTrain = dfTrain.copy()#.filter(['SrcAddr','Dur','sTos','dTos','TotPkts','SrcPkts','DstPkts',\n",
    "# #                           'TotBytes','SrcBytes','DstBytes','TotAppByte','SAppBytes',\n",
    "# #                           'arp', 'icmp', 'igmp', 'ipv6-icmp','rtcp','rtp','tcp','udp',\n",
    "# #                           'udt','   ->','   ?>','  <->','  <?>', '  who', 'Label'], axis=1)\n",
    "# dfsTest = dfTest.copy()#.filter(['SrcAddr','Dur','sTos','dTos','TotPkts','SrcPkts','DstPkts',\n",
    "# #                           'TotBytes','SrcBytes','DstBytes','TotAppByte','SAppBytes',\n",
    "# #                           'arp', 'icmp', 'igmp', 'ipv6-icmp','rtcp','rtp','tcp','udp',\n",
    "# #                           'udt','   ->','   ?>','  <->','  <?>', '  who','Label'], axis=1)"
   ]
  },
  {
   "cell_type": "code",
   "execution_count": null,
   "metadata": {
    "collapsed": false
   },
   "outputs": [],
   "source": []
  },
  {
   "cell_type": "code",
   "execution_count": null,
   "metadata": {
    "collapsed": false
   },
   "outputs": [],
   "source": [
    "# df = dfTrain\n",
    "# window_size = 100\n",
    "# total_batch = int(len(df)/window_size)\n",
    "# trainD = pd.DataFrame()\n",
    "# # Loop over all batches\n",
    "# for i in range(total_batch):\n",
    "#     n = min(window_size, len(df)-i*window_size)\n",
    "#     df_win = df[i*window_size:i*window_size+n]\n",
    "#     group = df_win.groupby(['SrcAddr'])\n",
    "#     train_win = group.Sport.nunique()\n",
    "#     #train_win.rename(columns={'Sport':'usrc_port'},inplace=True)\n",
    "#     train_win = pd.DataFrame(train_win)\n",
    "#     train_win['udest_ip'] = group.DstAddr.nunique()\n",
    "#     train_win['udest_port'] = group.Dport.nunique()\n",
    "#     train_win['netflows'] = group.Dport.count()\n",
    "#     train_win['bytes'] = group.TotBytes.sum()\n",
    "#     train_win['packets'] = group.TotPkts.sum()\n",
    "#     train_win['Label'] = (group.Label.sum()*1.0/group.Dport.count())> 0\n",
    "#     trainD = pd.DataFrame.append(trainD,train_win)\n",
    "    "
   ]
  },
  {
   "cell_type": "code",
   "execution_count": null,
   "metadata": {
    "collapsed": false
   },
   "outputs": [],
   "source": []
  },
  {
   "cell_type": "code",
   "execution_count": null,
   "metadata": {
    "collapsed": false
   },
   "outputs": [],
   "source": [
    "# del dfsTrain['SrcAddr']\n",
    "# trainY = pd.get_dummies(dfsTrain.Label)\n",
    "# trainY = trainY.as_matrix()\n",
    "# #trainY = dfTrain.Label\n",
    "# del dfsTrain['Label']\n",
    "# trainX = dfsTrain.as_matrix()\n",
    "\n",
    "# del dfsTest['SrcAddr']\n",
    "# testY = pd.get_dummies(dfsTest.Label)\n",
    "# testY = testY.as_matrix()\n",
    "# #testY = dfTest.Label\n",
    "# del dfsTest['Label']\n",
    "# testX = dfsTest.as_matrix()"
   ]
  },
  {
   "cell_type": "code",
   "execution_count": null,
   "metadata": {
    "collapsed": false
   },
   "outputs": [],
   "source": []
  },
  {
   "cell_type": "code",
   "execution_count": null,
   "metadata": {
    "collapsed": false
   },
   "outputs": [],
   "source": []
  },
  {
   "cell_type": "code",
   "execution_count": 23,
   "metadata": {
    "collapsed": false
   },
   "outputs": [
    {
     "name": "stderr",
     "output_type": "stream",
     "text": [
      "WARNING:tensorflow:<tensorflow.python.ops.rnn_cell.BasicLSTMCell object at 0x7fb9d2f7e490>: Using a concatenated state is slower and will soon be deprecated.  Use state_is_tuple=True.\n"
     ]
    }
   ],
   "source": [
    "graph = tf.Graph()\n",
    "with graph.as_default():\n",
    "    # Parameters\n",
    "    learning_rate = 0.0001\n",
    "    training_iters = 20\n",
    "    batch_size = 100\n",
    "    display_step = 1\n",
    "\n",
    "    # Network Parameters\n",
    "    n_input = 13 \n",
    "    seq_max_len = 200 # Sequence max lengths\n",
    "    n_hidden = 100 # hidden layer num of features\n",
    "    n_classes = 2 # MNIST total classes (0-9 digits)\n",
    "\n",
    "    # tf Graph input\n",
    "    x = tf.placeholder(\"float\", [None, seq_max_len, n_input])\n",
    "    y = tf.placeholder(\"float\", [None, n_classes])\n",
    "    seqlen = tf.placeholder(tf.int32, [None])\n",
    "    \n",
    "    # Define weights\n",
    "    weights = {\n",
    "        # Hidden layer weights => 2*n_hidden because of forward + backward cells\n",
    "        'out': tf.Variable(tf.random_normal([n_hidden, n_classes]))\n",
    "    }\n",
    "    biases = {\n",
    "        'out': tf.Variable(tf.random_normal([n_classes]))\n",
    "    }\n",
    "\n",
    "\n",
    "    def RNN(x, weights, biases, seqlen):\n",
    "\n",
    "        # Prepare data shape to match `bidirectional_rnn` function requirements\n",
    "        # Current data input shape: (batch_size, n_steps, n_input)\n",
    "        # Required shape: 'n_steps' tensors list of shape (batch_size, n_input)\n",
    "\n",
    "        # Permuting batch_size and n_steps\n",
    "        x = tf.transpose(x, [1, 0, 2])\n",
    "        # Reshape to (n_steps*batch_size, n_input)\n",
    "        x = tf.reshape(x, [-1, n_input])\n",
    "        # Split to get a list of 'n_steps' tensors of shape (batch_size, n_input)\n",
    "        x = tf.split(0, seq_max_len, x)\n",
    "\n",
    "        # Define lstm cell with tensorflow\n",
    "        lstm_cell = tf.nn.rnn_cell.BasicLSTMCell(n_hidden, forget_bias=1.0)\n",
    "        #initial_state = lstm_cell.zero_state(batch_size, tf.float32)\n",
    "        # Get lstm cell output\n",
    "        outputs, _ = tf.nn.rnn(lstm_cell, x, dtype=tf.float32, sequence_length=seqlen)\n",
    "        # Linear activation, using rnn inner loop last output\n",
    "        return tf.matmul(outputs[-1], weights['out']) + biases['out']\n",
    "\n",
    "    pred = RNN(x, weights, biases,seqlen)\n",
    "\n",
    "    # Define loss and optimizer\n",
    "    cost = tf.reduce_mean(tf.nn.softmax_cross_entropy_with_logits(logits=pred, labels=y))\n",
    "    optimizer = tf.train.AdamOptimizer(learning_rate=learning_rate).minimize(cost)\n",
    "\n",
    "    # Evaluate model\n",
    "    correct_pred = tf.equal(tf.argmax(pred,1), tf.argmax(y,1))\n",
    "    accuracy = tf.reduce_mean(tf.cast(correct_pred, tf.float32))"
   ]
  },
  {
   "cell_type": "code",
   "execution_count": null,
   "metadata": {
    "collapsed": false
   },
   "outputs": [],
   "source": [
    "np.save('trainX.npy', X)\n",
    "np.save('trainY.npy', Y)\n",
    "np.save('trainL.npy', L)"
   ]
  },
  {
   "cell_type": "code",
   "execution_count": null,
   "metadata": {
    "collapsed": false
   },
   "outputs": [],
   "source": [
    "trainX = np.load('trainX.npy')\n",
    "trainY = np.load('trainY.npy')\n",
    "trainL = np.load('trainL.npy')\n",
    "testX = np.load('testX.npy')\n",
    "testY = np.load('testY.npy')\n",
    "testL = np.load('testL.npy')"
   ]
  },
  {
   "cell_type": "code",
   "execution_count": null,
   "metadata": {
    "collapsed": true
   },
   "outputs": [],
   "source": []
  },
  {
   "cell_type": "code",
   "execution_count": 4,
   "metadata": {
    "collapsed": false
   },
   "outputs": [],
   "source": []
  },
  {
   "cell_type": "code",
   "execution_count": 24,
   "metadata": {
    "collapsed": false
   },
   "outputs": [
    {
     "name": "stdout",
     "output_type": "stream",
     "text": [
      "(14757, 200, 13)\n",
      "(8706, 200, 13)\n"
     ]
    }
   ],
   "source": [
    "print trainX.shape\n",
    "print testX.shape"
   ]
  },
  {
   "cell_type": "code",
   "execution_count": 25,
   "metadata": {
    "collapsed": false,
    "scrolled": false
   },
   "outputs": [
    {
     "data": {
      "image/png": "[encoded data removed]",
      "text/plain": [
       "<matplotlib.figure.Figure at 0x7fb9d2b43250>"
      ]
     },
     "metadata": {},
     "output_type": "display_data"
    },
    {
     "name": "stdout",
     "output_type": "stream",
     "text": [
      " \r",
      "Iteration: 3 Loss: 0.212401 Train Accuracy: 1.0 Test Accuracy: 0.856306"
     ]
    },
    {
     "ename": "KeyboardInterrupt",
     "evalue": "",
     "output_type": "error",
     "traceback": [
      "\u001b[0;31m---------------------------------------------------------------------------\u001b[0m",
      "\u001b[0;31mKeyboardInterrupt\u001b[0m                         Traceback (most recent call last)",
      "\u001b[0;32m<ipython-input-25-9e2eb9735d7b>\u001b[0m in \u001b[0;36m<module>\u001b[0;34m()\u001b[0m\n\u001b[1;32m     17\u001b[0m             \u001b[0;31m#batch_x = batch_x.reshape((batch_size, seq_max_len, n_input))\u001b[0m\u001b[0;34m\u001b[0m\u001b[0;34m\u001b[0m\u001b[0m\n\u001b[1;32m     18\u001b[0m             \u001b[0;31m# Run optimization op (backprop)\u001b[0m\u001b[0;34m\u001b[0m\u001b[0;34m\u001b[0m\u001b[0m\n\u001b[0;32m---> 19\u001b[0;31m             \u001b[0msess\u001b[0m\u001b[0;34m.\u001b[0m\u001b[0mrun\u001b[0m\u001b[0;34m(\u001b[0m\u001b[0moptimizer\u001b[0m\u001b[0;34m,\u001b[0m \u001b[0mfeed_dict\u001b[0m\u001b[0;34m=\u001b[0m\u001b[0;34m{\u001b[0m\u001b[0mx\u001b[0m\u001b[0;34m:\u001b[0m \u001b[0mbatch_x\u001b[0m\u001b[0;34m,\u001b[0m \u001b[0my\u001b[0m\u001b[0;34m:\u001b[0m \u001b[0mbatch_y\u001b[0m\u001b[0;34m,\u001b[0m \u001b[0mseqlen\u001b[0m\u001b[0;34m:\u001b[0m \u001b[0mbatch_len\u001b[0m\u001b[0;34m}\u001b[0m\u001b[0;34m)\u001b[0m\u001b[0;34m\u001b[0m\u001b[0m\n\u001b[0m\u001b[1;32m     20\u001b[0m         \u001b[0;32mif\u001b[0m \u001b[0miters\u001b[0m \u001b[0;34m%\u001b[0m \u001b[0mdisplay_step\u001b[0m \u001b[0;34m==\u001b[0m \u001b[0;36m0\u001b[0m\u001b[0;34m:\u001b[0m\u001b[0;34m\u001b[0m\u001b[0m\n\u001b[1;32m     21\u001b[0m             \u001b[0;31m# Calculate batch accuracy\u001b[0m\u001b[0;34m\u001b[0m\u001b[0;34m\u001b[0m\u001b[0m\n",
      "\u001b[0;32m/home/ankit/anaconda2/lib/python2.7/site-packages/tensorflow/python/client/session.pyc\u001b[0m in \u001b[0;36mrun\u001b[0;34m(self, fetches, feed_dict, options, run_metadata)\u001b[0m\n\u001b[1;32m    380\u001b[0m     \u001b[0;32mtry\u001b[0m\u001b[0;34m:\u001b[0m\u001b[0;34m\u001b[0m\u001b[0m\n\u001b[1;32m    381\u001b[0m       result = self._run(None, fetches, feed_dict, options_ptr,\n\u001b[0;32m--> 382\u001b[0;31m                          run_metadata_ptr)\n\u001b[0m\u001b[1;32m    383\u001b[0m       \u001b[0;32mif\u001b[0m \u001b[0mrun_metadata\u001b[0m\u001b[0;34m:\u001b[0m\u001b[0;34m\u001b[0m\u001b[0m\n\u001b[1;32m    384\u001b[0m         \u001b[0mproto_data\u001b[0m \u001b[0;34m=\u001b[0m \u001b[0mtf_session\u001b[0m\u001b[0;34m.\u001b[0m\u001b[0mTF_GetBuffer\u001b[0m\u001b[0;34m(\u001b[0m\u001b[0mrun_metadata_ptr\u001b[0m\u001b[0;34m)\u001b[0m\u001b[0;34m\u001b[0m\u001b[0m\n",
      "\u001b[0;32m/home/ankit/anaconda2/lib/python2.7/site-packages/tensorflow/python/client/session.pyc\u001b[0m in \u001b[0;36m_run\u001b[0;34m(self, handle, fetches, feed_dict, options, run_metadata)\u001b[0m\n\u001b[1;32m    653\u001b[0m     \u001b[0mmovers\u001b[0m \u001b[0;34m=\u001b[0m \u001b[0mself\u001b[0m\u001b[0;34m.\u001b[0m\u001b[0m_update_with_movers\u001b[0m\u001b[0;34m(\u001b[0m\u001b[0mfeed_dict_string\u001b[0m\u001b[0;34m,\u001b[0m \u001b[0mfeed_map\u001b[0m\u001b[0;34m)\u001b[0m\u001b[0;34m\u001b[0m\u001b[0m\n\u001b[1;32m    654\u001b[0m     results = self._do_run(handle, target_list, unique_fetches,\n\u001b[0;32m--> 655\u001b[0;31m                            feed_dict_string, options, run_metadata)\n\u001b[0m\u001b[1;32m    656\u001b[0m \u001b[0;34m\u001b[0m\u001b[0m\n\u001b[1;32m    657\u001b[0m     \u001b[0;31m# User may have fetched the same tensor multiple times, but we\u001b[0m\u001b[0;34m\u001b[0m\u001b[0;34m\u001b[0m\u001b[0m\n",
      "\u001b[0;32m/home/ankit/anaconda2/lib/python2.7/site-packages/tensorflow/python/client/session.pyc\u001b[0m in \u001b[0;36m_do_run\u001b[0;34m(self, handle, target_list, fetch_list, feed_dict, options, run_metadata)\u001b[0m\n\u001b[1;32m    721\u001b[0m     \u001b[0;32mif\u001b[0m \u001b[0mhandle\u001b[0m \u001b[0;32mis\u001b[0m \u001b[0mNone\u001b[0m\u001b[0;34m:\u001b[0m\u001b[0;34m\u001b[0m\u001b[0m\n\u001b[1;32m    722\u001b[0m       return self._do_call(_run_fn, self._session, feed_dict, fetch_list,\n\u001b[0;32m--> 723\u001b[0;31m                            target_list, options, run_metadata)\n\u001b[0m\u001b[1;32m    724\u001b[0m     \u001b[0;32melse\u001b[0m\u001b[0;34m:\u001b[0m\u001b[0;34m\u001b[0m\u001b[0m\n\u001b[1;32m    725\u001b[0m       return self._do_call(_prun_fn, self._session, handle, feed_dict,\n",
      "\u001b[0;32m/home/ankit/anaconda2/lib/python2.7/site-packages/tensorflow/python/client/session.pyc\u001b[0m in \u001b[0;36m_do_call\u001b[0;34m(self, fn, *args)\u001b[0m\n\u001b[1;32m    728\u001b[0m   \u001b[0;32mdef\u001b[0m \u001b[0m_do_call\u001b[0m\u001b[0;34m(\u001b[0m\u001b[0mself\u001b[0m\u001b[0;34m,\u001b[0m \u001b[0mfn\u001b[0m\u001b[0;34m,\u001b[0m \u001b[0;34m*\u001b[0m\u001b[0margs\u001b[0m\u001b[0;34m)\u001b[0m\u001b[0;34m:\u001b[0m\u001b[0;34m\u001b[0m\u001b[0m\n\u001b[1;32m    729\u001b[0m     \u001b[0;32mtry\u001b[0m\u001b[0;34m:\u001b[0m\u001b[0;34m\u001b[0m\u001b[0m\n\u001b[0;32m--> 730\u001b[0;31m       \u001b[0;32mreturn\u001b[0m \u001b[0mfn\u001b[0m\u001b[0;34m(\u001b[0m\u001b[0;34m*\u001b[0m\u001b[0margs\u001b[0m\u001b[0;34m)\u001b[0m\u001b[0;34m\u001b[0m\u001b[0m\n\u001b[0m\u001b[1;32m    731\u001b[0m     \u001b[0;32mexcept\u001b[0m \u001b[0merrors\u001b[0m\u001b[0;34m.\u001b[0m\u001b[0mOpError\u001b[0m \u001b[0;32mas\u001b[0m \u001b[0me\u001b[0m\u001b[0;34m:\u001b[0m\u001b[0;34m\u001b[0m\u001b[0m\n\u001b[1;32m    732\u001b[0m       \u001b[0mmessage\u001b[0m \u001b[0;34m=\u001b[0m \u001b[0mcompat\u001b[0m\u001b[0;34m.\u001b[0m\u001b[0mas_text\u001b[0m\u001b[0;34m(\u001b[0m\u001b[0me\u001b[0m\u001b[0;34m.\u001b[0m\u001b[0mmessage\u001b[0m\u001b[0;34m)\u001b[0m\u001b[0;34m\u001b[0m\u001b[0m\n",
      "\u001b[0;32m/home/ankit/anaconda2/lib/python2.7/site-packages/tensorflow/python/client/session.pyc\u001b[0m in \u001b[0;36m_run_fn\u001b[0;34m(session, feed_dict, fetch_list, target_list, options, run_metadata)\u001b[0m\n\u001b[1;32m    710\u001b[0m         return tf_session.TF_Run(session, options,\n\u001b[1;32m    711\u001b[0m                                  \u001b[0mfeed_dict\u001b[0m\u001b[0;34m,\u001b[0m \u001b[0mfetch_list\u001b[0m\u001b[0;34m,\u001b[0m \u001b[0mtarget_list\u001b[0m\u001b[0;34m,\u001b[0m\u001b[0;34m\u001b[0m\u001b[0m\n\u001b[0;32m--> 712\u001b[0;31m                                  status, run_metadata)\n\u001b[0m\u001b[1;32m    713\u001b[0m \u001b[0;34m\u001b[0m\u001b[0m\n\u001b[1;32m    714\u001b[0m     \u001b[0;32mdef\u001b[0m \u001b[0m_prun_fn\u001b[0m\u001b[0;34m(\u001b[0m\u001b[0msession\u001b[0m\u001b[0;34m,\u001b[0m \u001b[0mhandle\u001b[0m\u001b[0;34m,\u001b[0m \u001b[0mfeed_dict\u001b[0m\u001b[0;34m,\u001b[0m \u001b[0mfetch_list\u001b[0m\u001b[0;34m)\u001b[0m\u001b[0;34m:\u001b[0m\u001b[0;34m\u001b[0m\u001b[0m\n",
      "\u001b[0;31mKeyboardInterrupt\u001b[0m: "
     ]
    },
    {
     "data": {
      "image/png": "[encoded data removed]",
      "text/plain": [
       "<matplotlib.figure.Figure at 0x7fb9d2b43250>"
      ]
     },
     "metadata": {},
     "output_type": "display_data"
    }
   ],
   "source": [
    "# Launch the graph\n",
    "with tf.Session(graph=graph) as sess:\n",
    "    # Initializing the variables\n",
    "    init = tf.initialize_all_variables()\n",
    "    \n",
    "    sess.run(init)\n",
    "    # Keep training until reach max iterations\n",
    "    for iters in range(training_iters):\n",
    "        total_batch = int(len(trainX)/batch_size)\n",
    "        # Loop over all batches\n",
    "        for i in range(total_batch):\n",
    "            n = min(batch_size, len(trainX)-i*batch_size)\n",
    "            batch_x= trainX[i*batch_size:i*batch_size+n]\n",
    "            batch_y =trainY[i*batch_size:i*batch_size+n]\n",
    "            batch_len =trainL[i*batch_size:i*batch_size+n]\n",
    "            # Reshape data to get 28 seq of 28 elements\n",
    "            #batch_x = batch_x.reshape((batch_size, seq_max_len, n_input))\n",
    "            # Run optimization op (backprop)\n",
    "            sess.run(optimizer, feed_dict={x: batch_x, y: batch_y, seqlen: batch_len})\n",
    "        if iters % display_step == 0:\n",
    "            # Calculate batch accuracy\n",
    "            Train_accuracy = sess.run(accuracy, feed_dict={x: batch_x, y: batch_y, seqlen: batch_len})\n",
    "            # Calculate batch loss\n",
    "            loss = sess.run(cost, feed_dict={x: batch_x, y: batch_y, seqlen: batch_len})\n",
    "            #testX = testX.reshape(-1,seq_max_len,n_input)\n",
    "            Test_accuracy=str(sess.run(accuracy,feed_dict={x:testX, y:testY, seqlen: testL}))    \n",
    "            pl.plot([iters],loss,'b.',)\n",
    "            pl.plot([iters],Train_accuracy,'r*',)\n",
    "            pl.plot([iters],Test_accuracy,'g+')\n",
    "            display.clear_output(wait=True)\n",
    "            display.display(pl.gcf())   \n",
    "            sys.stdout.flush()\n",
    "            print(\"\\rIteration: %s Loss: %s Train Accuracy: %s Test Accuracy: %s\"%(iters,loss,Train_accuracy,Test_accuracy)),\n",
    "            sys.stdout.flush()\n",
    "    print(\"Optimization Finished!\")\n",
    "    # Calculate accuracy for 128 mnist test images\n",
    "    print(\"Testing Accuracy:\", \\\n",
    "    sess.run(accuracy, feed_dict={x:testX, y:testY, seqlen: testL}))\n",
    "    print(\"Training Accuracy:\", \\\n",
    "    sess.run(accuracy, feed_dict={x:trainX, y:trainY, seqlen: trainL}))\n",
    "    prediction=tf.argmax(pred,1)\n",
    "    out =  prediction.eval(feed_dict={x: testX})"
   ]
  },
  {
   "cell_type": "code",
   "execution_count": null,
   "metadata": {
    "collapsed": false
   },
   "outputs": [],
   "source": [
    "from sklearn.metrics import confusion_matrix\n",
    "confusion_matrix(out, dfTest['Label']) #0 = normal"
   ]
  },
  {
   "cell_type": "code",
   "execution_count": 28,
   "metadata": {
    "collapsed": false
   },
   "outputs": [
    {
     "data": {
      "text/plain": [
       "array([ 10876.,   3881.])"
      ]
     },
     "execution_count": 28,
     "metadata": {},
     "output_type": "execute_result"
    }
   ],
   "source": [
    "trainY.sum(axis=0)"
   ]
  },
  {
   "cell_type": "code",
   "execution_count": null,
   "metadata": {
    "collapsed": false
   },
   "outputs": [],
   "source": [
    "np.save('testX.npy', X)\n",
    "np.save('testY.npy', Y)\n",
    "np.save('testL.npy', L)"
   ]
  },
  {
   "cell_type": "code",
   "execution_count": null,
   "metadata": {
    "collapsed": true
   },
   "outputs": [],
   "source": []
  }
 ],
 "metadata": {
  "kernelspec": {
   "display_name": "Python 2",
   "language": "python",
   "name": "python2"
  },
  "language_info": {
   "codemirror_mode": {
    "name": "ipython",
    "version": 2
   },
   "file_extension": ".py",
   "mimetype": "text/x-python",
   "name": "python",
   "nbconvert_exporter": "python",
   "pygments_lexer": "ipython2",
   "version": "2.7.13"
  }
 },
 "nbformat": 4,
 "nbformat_minor": 2
}
