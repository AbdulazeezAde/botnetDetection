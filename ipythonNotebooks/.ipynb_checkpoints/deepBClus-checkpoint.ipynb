{
 "cells": [
  {
   "cell_type": "code",
   "execution_count": 1,
   "metadata": {
    "collapsed": false
   },
   "outputs": [
    {
     "name": "stderr",
     "output_type": "stream",
     "text": [
      "/home/ankit/anaconda2/lib/python2.7/site-packages/sklearn/cross_validation.py:44: DeprecationWarning: This module was deprecated in version 0.18 in favor of the model_selection module into which all the refactored classes and functions are moved. Also note that the interface of the new CV iterators are different from that of this module. This module will be removed in 0.20.\n",
      "  \"This module will be removed in 0.20.\", DeprecationWarning)\n"
     ]
    }
   ],
   "source": [
    "import numpy as np\n",
    "import tensorflow as tf\n",
    "from sklearn import datasets\n",
    "from sklearn.cross_validation import train_test_split\n",
    "import pylab as pl\n",
    "from IPython import display\n",
    "import pandas as pd\n",
    "import sys\n",
    "%matplotlib inline"
   ]
  },
  {
   "cell_type": "code",
   "execution_count": 2,
   "metadata": {
    "collapsed": false
   },
   "outputs": [],
   "source": [
    "def getFeatures(df):\n",
    "    window_size = 1000\n",
    "    total_batch = int(len(df)/window_size)\n",
    "    trainX = pd.DataFrame()\n",
    "    # Loop over all batches\n",
    "    for i in range(total_batch):\n",
    "        n = min(window_size, len(df)-i*window_size)\n",
    "        df_win = df[i*window_size:i*window_size+n]\n",
    "        group = df_win.groupby(['SrcAddr'])\n",
    "        train_win = group.Sport.nunique()\n",
    "        train_win = pd.DataFrame(train_win)\n",
    "        train_win['udest_ip'] = group.DstAddr.nunique()\n",
    "        train_win['udest_port'] = group.Dport.nunique()\n",
    "        train_win['netflows'] = group.Dport.count()\n",
    "        temp = pd.get_dummies(group.first()['Proto'])\n",
    "        try:\n",
    "            train_win['tcp'] = temp.tcp\n",
    "        except:\n",
    "            train_win['tcp'] = group.Dport.count()*0\n",
    "        try:\n",
    "            train_win['udp'] = temp.udp\n",
    "        except:\n",
    "             train_win['udp'] = group.Dport.count()*0\n",
    "        train_win['bytes'] = group.TotBytes.sum()\n",
    "        train_win['packets'] = group.TotPkts.sum()\n",
    "        train_win['Label'] = (group.Label.sum()*1.0/group.Dport.count())> 0\n",
    "        trainX = pd.concat([trainX,train_win],axis=0)    \n",
    "    return trainX"
   ]
  },
  {
   "cell_type": "code",
   "execution_count": 3,
   "metadata": {
    "collapsed": false
   },
   "outputs": [],
   "source": [
    "import random\n",
    "\n",
    "def somerows(x, n):\n",
    "    return x.sample(n=n)\n",
    "\n",
    "def selectFlows(filename):\n",
    "    df = pd.read_csv(filename)\n",
    "    df['Label'] = df.Label.str.contains(\"Botnet\")\n",
    "    dft = getFeatures(df)\n",
    "    dfB = dft[dft['Label'] == True]\n",
    "    dfN = dft[dft['Label'] == False]\n",
    "    dfN = somerows(dfN,len(dfB))\n",
    "#     print len(dfB)\n",
    "#     print len(dfN)\n",
    "    df = pd.concat([dfB,dfN],axis=0)   \n",
    "    df = df.sample(frac=1).reset_index(drop=True)\n",
    "    return df"
   ]
  },
  {
   "cell_type": "code",
   "execution_count": 4,
   "metadata": {
    "collapsed": false
   },
   "outputs": [
    {
     "name": "stderr",
     "output_type": "stream",
     "text": [
      "/home/ankit/anaconda2/lib/python2.7/site-packages/pandas/core/groupby.py:2930: FutureWarning: numpy not_equal will not check object identity in the future. The comparison did not return the same result as suggested by the identity (`is`)) and will change.\n",
      "  inc = np.r_[1, val[1:] != val[:-1]]\n"
     ]
    },
    {
     "name": "stdout",
     "output_type": "stream",
     "text": [
      "3456\n",
      "10712\n"
     ]
    }
   ],
   "source": [
    "dfTrain = pd.DataFrame()\n",
    "df1 = selectFlows(\"/home/ankit/Desktop/MTP/Database/CTU-13-Dataset/3/capture20110812.binetflow\")\n",
    "dfTrain = pd.concat([dfTrain,df1],axis=0) \n",
    "df1 = selectFlows(\"/home/ankit/Desktop/MTP/Database/CTU-13-Dataset/4/capture20110815.binetflow\")\n",
    "dfTrain = pd.concat([dfTrain,df1],axis=0) \n",
    "df1 = selectFlows(\"/home/ankit/Desktop/MTP/Database/CTU-13-Dataset/5/capture20110815-2.binetflow\")\n",
    "dfTrain = pd.concat([dfTrain,df1],axis=0) \n",
    "df1 = selectFlows(\"/home/ankit/Desktop/MTP/Database/CTU-13-Dataset/7/capture20110816-2.binetflow\")\n",
    "dfTrain = pd.concat([dfTrain,df1],axis=0) \n",
    "print len(dfTrain)\n",
    "df1 = selectFlows(\"/home/ankit/Desktop/MTP/Database/CTU-13-Dataset/10/capture20110818.binetflow\")\n",
    "dfTrain = pd.concat([dfTrain,df1],axis=0) \n",
    "df1 = selectFlows(\"/home/ankit/Desktop/MTP/Database/CTU-13-Dataset/11/capture20110818-2.binetflow\")\n",
    "dfTrain = pd.concat([dfTrain,df1],axis=0) \n",
    "df1 = selectFlows(\"/home/ankit/Desktop/MTP/Database/CTU-13-Dataset/12/capture20110819.binetflow\")\n",
    "dfTrain = pd.concat([dfTrain,df1],axis=0) \n",
    "df1 = selectFlows(\"/home/ankit/Desktop/MTP/Database/CTU-13-Dataset/13/capture20110815-3.binetflow\")\n",
    "dfTrain = pd.concat([dfTrain,df1],axis=0) \n",
    "\n",
    "\n",
    "# df1 = pd.read_csv(\"/home/ankit/Desktop/MTP/working_directory/Binenetflow/ISCX_Botnet-Training.biargus.binetflow\")\n",
    "# #Add Label to flows\n",
    "# df1['Label'] = pd.Series(np.zeros(len(df1['Dur'])), index=df1.index)\n",
    "# malicious_ips = \"192.168.2.112 131.202.243.84 192.168.5.122 198.164.30.2 192.168.2.110 192.168.4.118 192.168.2.113 192.168.1.103 192.168.4.120 192.168.2.112 192.168.2.109 192.168.2.105 147.32.84.180 147.32.84.170 147.32.84.150 147.32.84.140 147.32.84.130 147.32.84.160 10.0.2.15 192.168.106.141 192.168.106.131 172.16.253.130 172.16.253.131 172.16.253.129 172.16.253.240 74.78.117.238 158.65.110.24 192.168.3.35 192.168.3.25 192.168.3.65 172.29.0.116 172.29.0.109 172.16.253.132 192.168.248.165 10.37.130.4\"\n",
    "# malicious_ips = malicious_ips.split()\n",
    "\n",
    "# for i in malicious_ips:\n",
    "#     df1.loc[df1[\"SrcAddr\"] == i,\"Label\"] = 1\n",
    "\n",
    "# df1 = getFeatures(df1)\n",
    "# dfTrain = pd.concat([dfTrain,df1],axis=0) \n",
    "    \n",
    "print len(dfTrain)"
   ]
  },
  {
   "cell_type": "code",
   "execution_count": 5,
   "metadata": {
    "collapsed": false
   },
   "outputs": [
    {
     "name": "stdout",
     "output_type": "stream",
     "text": [
      "32400\n"
     ]
    }
   ],
   "source": [
    "dfTest = pd.DataFrame()\n",
    "df1 = selectFlows(\"/home/ankit/Desktop/MTP/Database/CTU-13-Dataset/1/capture20110810.binetflow\")\n",
    "dfTest = pd.concat([dfTest,df1],axis=0) \n",
    "df1 = selectFlows(\"/home/ankit/Desktop/MTP/Database/CTU-13-Dataset/2/capture20110811.binetflow\")\n",
    "dfTest = pd.concat([dfTest,df1],axis=0) \n",
    "df1 = selectFlows(\"/home/ankit/Desktop/MTP/Database/CTU-13-Dataset/6/capture20110816.binetflow\")\n",
    "dfTest = pd.concat([dfTest,df1],axis=0) \n",
    "df1 = selectFlows(\"/home/ankit/Desktop/MTP/Database/CTU-13-Dataset/8/capture20110816-3.binetflow\")\n",
    "dfTest = pd.concat([dfTest,df1],axis=0) \n",
    "df1 = selectFlows(\"/home/ankit/Desktop/MTP/Database/CTU-13-Dataset/9/capture20110817.binetflow\")\n",
    "dfTest = pd.concat([dfTest,df1],axis=0)\n",
    "\n",
    "\n",
    "# df1 = pd.read_csv(\"/home/ankit/Desktop/MTP/working_directory/Binenetflow/ISCX_Botnet-Testing.biargus.binenetflow\")\n",
    "# #Add Label to flows\n",
    "# df1['Label'] = pd.Series(np.zeros(len(df1['Dur'])), index=df1.index)\n",
    "# malicious_ips = \"192.168.2.112 131.202.243.84 192.168.5.122 198.164.30.2 192.168.2.110 192.168.4.118 192.168.2.113 192.168.1.103 192.168.4.120 192.168.2.112 192.168.2.109 192.168.2.105 147.32.84.180 147.32.84.170 147.32.84.150 147.32.84.140 147.32.84.130 147.32.84.160 10.0.2.15 192.168.106.141 192.168.106.131 172.16.253.130 172.16.253.131 172.16.253.129 172.16.253.240 74.78.117.238 158.65.110.24 192.168.3.35 192.168.3.25 192.168.3.65 172.29.0.116 172.29.0.109 172.16.253.132 192.168.248.165 10.37.130.4\"\n",
    "# malicious_ips = malicious_ips.split()\n",
    "\n",
    "# for i in malicious_ips:\n",
    "#     df1.loc[df1[\"SrcAddr\"] == i,\"Label\"] = 1\n",
    "\n",
    "# df1 = getFeatures(df1)\n",
    "# dfTest = pd.concat([dfTest,df1],axis=0) \n",
    "\n",
    "print len(dfTest)"
   ]
  },
  {
   "cell_type": "code",
   "execution_count": 6,
   "metadata": {
    "collapsed": false
   },
   "outputs": [],
   "source": [
    "def getXY(df):\n",
    "    temp = pd.get_dummies(df.Label)\n",
    "    temp = pd.DataFrame(temp)\n",
    "    Y = temp.as_matrix()\n",
    "    X = df.copy()\n",
    "    del X['Label']\n",
    "    X = (X - X.mean()) / (X.max() - X.min())\n",
    "    X = X.as_matrix()\n",
    "    return X,Y"
   ]
  },
  {
   "cell_type": "code",
   "execution_count": 7,
   "metadata": {
    "collapsed": false
   },
   "outputs": [],
   "source": [
    "trainX, trainY = getXY(dfTest)\n",
    "\n",
    "testX, testY = getXY(dfTrain)"
   ]
  },
  {
   "cell_type": "code",
   "execution_count": null,
   "metadata": {
    "collapsed": false,
    "scrolled": false
   },
   "outputs": [
    {
     "data": {
      "image/png": "[encoded data removed]",
      "text/plain": [
       "<matplotlib.figure.Figure at 0x7fe7b64a7ed0>"
      ]
     },
     "metadata": {},
     "output_type": "display_data"
    },
    {
     "name": "stdout",
     "output_type": "stream",
     "text": [
      " \r",
      "Iteration: 210 Loss: 0.110962084127 Train Accuracy: 0.933796 Test Accuracy: 0.764563"
     ]
    }
   ],
   "source": [
    "# Create model\n",
    "def multilayer_perceptron(x, weights, biases):\n",
    "    # Hidden layer with RELU activation\n",
    "    with tf.name_scope(\"layer1\"):\n",
    "        layer_11 = tf.add(tf.matmul(x, weights['h1']), biases['b1'])\n",
    "        layer_11 = tf.nn.sigmoid(layer_11)\n",
    "    # Hidden layer with RELU activation\n",
    "    with tf.name_scope(\"layer2\"):\n",
    "        layer_12 = tf.add(tf.matmul(x, weights['h2']), biases['b2'])\n",
    "        layer_12 = tf.nn.tanh(layer_12)\n",
    "    with tf.name_scope(\"layer4\"):\n",
    "        layer_1 = tf.add(tf.mul(layer_11, layer_12),1-layer_11)\n",
    "        layer_1 = tf.nn.relu(layer_1)\n",
    "#     # Hidden layer with RELU activation\n",
    "#     layer_2 = tf.add(tf.matmul(layer_1, weights['h4']), biases['b4'])\n",
    "#     layer_2 = tf.nn.relu(layer_2)\n",
    "#     # Hidden layer with RELU activation\n",
    "#     layer_3 = tf.add(tf.matmul(layer_2, weights['h3']), biases['b3'])\n",
    "#     layer_3 = tf.nn.relu(layer_3)\n",
    "#     # Hidden layer with RELU activation\n",
    "#     layer_4 = tf.add(tf.matmul(layer_3, weights['h4']), biases['b4'])\n",
    "#     layer_4 = tf.nn.tanh(layer_4)\n",
    "#     # Hidden layer with RELU activation\n",
    "#     layer_5 = tf.add(tf.matmul(layer_4, weights['h5']), biases['b5'])\n",
    "#     layer_5 = tf.nn.sigmoid(layer_5)\n",
    "#     # Hidden layer with RELU activation\n",
    "#     layer_6 = tf.add(tf.matmul(layer_5, weights['h6']), biases['b6'])\n",
    "#     layer_6 = tf.nn.relu(layer_6)\n",
    "    # Output layer with linear activation\n",
    "    out_layer = tf.matmul(layer_1, weights['out']) + biases['out']\n",
    "    return out_layer\n",
    "\n",
    "#Parameters\n",
    "learning_rate = 0.001\n",
    "training_epochs = 500\n",
    "batch_size = 100\n",
    "display_step = 10\n",
    "\n",
    "#Betwork Parameters\n",
    "n_hidden_1 = 40\n",
    "n_hidden_2 = 40\n",
    "n_hidden_3 = 40\n",
    "n_hidden_4 = 40\n",
    "# n_hidden_5 = 16\n",
    "# n_hidden_6 = 8\n",
    "n_input = 8\n",
    "n_classes = 2\n",
    "# tf Graph input\n",
    "x = tf.placeholder(\"float\", [None, n_input],'x')\n",
    "y = tf.placeholder(\"float\", [None, n_classes],'y')\n",
    "# Store layers weight & bias\n",
    "weights = {\n",
    "    'h1': tf.Variable(tf.random_normal([n_input, n_hidden_1]),name='wh1'),\n",
    "    'h2': tf.Variable(tf.random_normal([n_input, n_hidden_1]),name='wh2'),\n",
    "    'h3': tf.Variable(tf.random_normal([n_hidden_1, n_hidden_2]),name='wh3'),\n",
    "    'h4': tf.Variable(tf.random_normal([n_hidden_1, n_hidden_2]),name='wh4'),\n",
    "#     'h5': tf.Variable(tf.random_normal([n_hidden_4, n_hidden_5]),name='wh5'),\n",
    "#     'h6': tf.Variable(tf.random_normal([n_hidden_5, n_hidden_6]),name='wh6'),\n",
    "    'out': tf.Variable(tf.random_normal([n_hidden_2, n_classes]),name='wo')\n",
    "}\n",
    "biases = {\n",
    "    'b1': tf.Variable(tf.random_normal([n_hidden_1]),name='b1'),\n",
    "    'b2': tf.Variable(tf.random_normal([n_hidden_1]),name='b2'),\n",
    "    'b3': tf.Variable(tf.random_normal([n_hidden_2]),name='b3'),\n",
    "    'b4': tf.Variable(tf.random_normal([n_hidden_2]),name='b4'),\n",
    "#     'b5': tf.Variable(tf.random_normal([n_hidden_5]),name='b5'),\n",
    "#     'b6': tf.Variable(tf.random_normal([n_hidden_6]),name='b6'),\n",
    "    'out': tf.Variable(tf.random_normal([n_classes]),name='bo')\n",
    "}\n",
    "\n",
    "# tf.histogram_summary(\"wh1_summ\",weights['h1'])\n",
    "# tf.histogram_summary(\"wh2_summ\",weights['h2'])\n",
    "# tf.histogram_summary(\"wh3_summ\",weights['h3'])\n",
    "# tf.histogram_summary(\"wo_summ\",weights['out'])\n",
    "# tf.histogram_summary(\"b1_summ\",biases['b1'])\n",
    "# tf.histogram_summary(\"b2_summ\",biases['b2'])\n",
    "# tf.histogram_summary(\"b3_summ\",biases['b3'])\n",
    "# tf.histogram_summary(\"b0_summ\",biases['out'])\n",
    "\n",
    "    # Construct model\n",
    "pred = multilayer_perceptron(x, weights, biases)\n",
    "\n",
    "# Define loss and optimizer\n",
    "with tf.name_scope(\"cost\"):\n",
    "    cost = tf.reduce_mean(tf.nn.softmax_cross_entropy_with_logits(logits=pred, labels=y))\n",
    "    optimizer = tf.train.AdamOptimizer(learning_rate=learning_rate).minimize(cost)\n",
    "    tf.scalar_summary(\"cost\",cost)\n",
    "# Initializing the variables\n",
    "init = tf.initialize_all_variables()\n",
    "\n",
    "\n",
    "# Test model\n",
    "with tf.name_scope(\"accuracy\"):\n",
    "    correct_prediction = tf.equal(tf.argmax(pred, 1), tf.argmax(y, 1))\n",
    "    # Calculate accuracy\n",
    "    accuracy = tf.reduce_mean(tf.cast(correct_prediction, \"float\"))\n",
    "    tf.scalar_summary(\"accuracy\",accuracy)\n",
    "    \n",
    "#Launch the graph\n",
    "with tf.Session() as sess:\n",
    "#     merged = tf.merge_all_summaries()\n",
    "#     writer = tf.train.SummaryWriter(\"./logs/nn_logs\",sess.graph)\n",
    "    sess.run(init)\n",
    "# Training cycle\n",
    "    for epoch in range(training_epochs):\n",
    "        avg_cost = 0.\n",
    "        total_batch = int(len(trainX)/batch_size)\n",
    "        # Loop over all batches\n",
    "        for i in range(total_batch):\n",
    "            n = min(batch_size, len(trainX)-i*batch_size)\n",
    "            batch_x = trainX[i*batch_size:i*batch_size+n]\n",
    "            batch_y = trainY[i*batch_size:i*batch_size+n]\n",
    "            # Run optimization op (backprop) and cost op (to get loss value)\n",
    "            _, c = sess.run([optimizer, cost], feed_dict={x: batch_x,\n",
    "                                                          y: batch_y})\n",
    "            # Compute average loss\n",
    "            avg_cost += c / total_batch\n",
    "        # Display logs per epoch step\n",
    "        if epoch % display_step == 0:\n",
    "#             result = sess.run([merged], feed_dict={x: batch_x, y: batch_y})\n",
    "#             writer.add_summary(result,epoch)\n",
    "            # Calculate batch accuracy\n",
    "            Train_accuracy = accuracy.eval({x: trainX, y: trainY})\n",
    "            # Calculate batch loss\n",
    "            loss = avg_cost\n",
    "            #testX = testX.reshape(-1,seq_max_len,n_input)\n",
    "            Test_accuracy=accuracy.eval({x: testX, y: testY})    \n",
    "            #pl.plot([epoch],loss,'b.',)\n",
    "            pl.plot([epoch],Train_accuracy,'r*',)\n",
    "            pl.plot([epoch],Test_accuracy,'g+')\n",
    "            display.clear_output(wait=True)\n",
    "            display.display(pl.gcf())   \n",
    "            sys.stdout.flush()\n",
    "            print(\"\\rIteration: %s Loss: %s Train Accuracy: %s Test Accuracy: %s\"%(epoch,loss,Train_accuracy,Test_accuracy)),\n",
    "            sys.stdout.flush()\n",
    "    print(\"Optimization Finished!\")\n",
    "    \n",
    "    print(\"Accuracy:\", accuracy.eval({x: testX, y: testY}))\n",
    "    prediction=tf.argmax(pred,1)\n",
    "    out =  prediction.eval(feed_dict={x: testX})"
   ]
  },
  {
   "cell_type": "code",
   "execution_count": 43,
   "metadata": {
    "collapsed": false
   },
   "outputs": [
    {
     "data": {
      "text/plain": [
       "array([[5202, 2119],\n",
       "       [ 154, 3237]])"
      ]
     },
     "execution_count": 43,
     "metadata": {},
     "output_type": "execute_result"
    }
   ],
   "source": [
    "from sklearn.metrics import confusion_matrix\n",
    "confusion_matrix(out, np.argmax(testY,1)) #0 = normal"
   ]
  },
  {
   "cell_type": "code",
   "execution_count": null,
   "metadata": {
    "collapsed": true
   },
   "outputs": [],
   "source": []
  },
  {
   "cell_type": "code",
   "execution_count": null,
   "metadata": {
    "collapsed": true
   },
   "outputs": [],
   "source": []
  },
  {
   "cell_type": "code",
   "execution_count": null,
   "metadata": {
    "collapsed": true
   },
   "outputs": [],
   "source": []
  }
 ],
 "metadata": {
  "anaconda-cloud": {},
  "kernelspec": {
   "display_name": "Python 2",
   "language": "python",
   "name": "python2"
  },
  "language_info": {
   "codemirror_mode": {
    "name": "ipython",
    "version": 2
   },
   "file_extension": ".py",
   "mimetype": "text/x-python",
   "name": "python",
   "nbconvert_exporter": "python",
   "pygments_lexer": "ipython2",
   "version": "2.7.13"
  }
 },
 "nbformat": 4,
 "nbformat_minor": 1
}
