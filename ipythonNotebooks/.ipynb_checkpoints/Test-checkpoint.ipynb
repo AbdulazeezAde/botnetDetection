{
 "cells": [
  {
   "cell_type": "code",
   "execution_count": 70,
   "metadata": {
    "collapsed": false
   },
   "outputs": [],
   "source": [
    "import numpy as np\n",
    "import tensorflow as tf\n",
    "from sklearn import datasets\n",
    "from sklearn.cross_validation import train_test_split\n",
    "import pylab as pl\n",
    "from IPython import display\n",
    "import pandas as pd\n",
    "import sys\n",
    "%matplotlib inline"
   ]
  },
  {
   "cell_type": "code",
   "execution_count": 91,
   "metadata": {
    "collapsed": false
   },
   "outputs": [],
   "source": [
    "def getFeatures(df):\n",
    "    window_size = 1000\n",
    "    total_batch = int(len(df)/window_size)\n",
    "    trainX = pd.DataFrame()\n",
    "    # Loop over all batches\n",
    "    for i in range(total_batch):\n",
    "        n = min(window_size, len(df)-i*window_size)\n",
    "        df_win = df[i*window_size:i*window_size+n]\n",
    "        group = df_win.groupby(['SrcAddr'])\n",
    "        train_win = group.Sport.nunique()\n",
    "        train_win = pd.DataFrame(train_win)\n",
    "        train_win['udest_ip'] = group.DstAddr.nunique()\n",
    "        train_win['udest_port'] = group.Dport.nunique()\n",
    "        train_win['netflows'] = group.Dport.count()\n",
    "        train_win['bytes'] = group.TotBytes.sum()\n",
    "        train_win['packets'] = group.TotPkts.sum()\n",
    "        train_win['Label'] = (group.Label.sum()*1.0/group.Dport.count())> 0\n",
    "        trainX = pd.concat([trainX,train_win],axis=0)    \n",
    "    return trainX"
   ]
  },
  {
   "cell_type": "code",
   "execution_count": 92,
   "metadata": {
    "collapsed": false
   },
   "outputs": [],
   "source": [
    "import random\n",
    "\n",
    "def somerows(x, n):\n",
    "    return x.sample(n=n)\n",
    "\n",
    "def selectFlows(filename):\n",
    "    df = pd.read_csv(filename)\n",
    "    df['Label'] = df.Label.str.contains(\"Botnet\")\n",
    "    dft = getFeatures(df)\n",
    "    dfB = dft[dft['Label'] == True]\n",
    "    dfN = dft[dft['Label'] == False]\n",
    "    dfN = somerows(dfN,len(dfB))\n",
    "#     print len(dfB)\n",
    "#     print len(dfN)\n",
    "    df = pd.concat([dfB,dfN],axis=0)   \n",
    "    df = df.sample(frac=1).reset_index(drop=True)\n",
    "    return df\n",
    "\n",
    "def selectFlowsdf(df):\n",
    "    df['Label'] = df.Label.str.contains(\"Botnet\")\n",
    "    dft = getFeatures(df)\n",
    "    dfB = dft[dft['Label'] == True]\n",
    "    dfN = dft[dft['Label'] == False]\n",
    "    dfN = somerows(dfN,len(dfB))\n",
    "#     print len(dfB)\n",
    "#     print len(dfN)\n",
    "    df = pd.concat([dfB,dfN],axis=0)   \n",
    "    df = df.sample(frac=1).reset_index(drop=True)\n",
    "    return df"
   ]
  },
  {
   "cell_type": "code",
   "execution_count": 93,
   "metadata": {
    "collapsed": false
   },
   "outputs": [
    {
     "name": "stdout",
     "output_type": "stream",
     "text": [
      "1143\n",
      "12027\n"
     ]
    }
   ],
   "source": [
    "dfTrain = pd.DataFrame()\n",
    "# df1 = selectFlows(\"/home/ankit/Desktop/MTP/Database/CTU-13-Dataset/3/capture20110812.binetflow\")\n",
    "# dfTrain = pd.concat([dfTrain,df1],axis=0) \n",
    "df1 = selectFlows(\"/home/ankit/Desktop/MTP/Database/CTU-13-Dataset/4/capture20110815.binetflow\")\n",
    "dfTrain = pd.concat([dfTrain,df1],axis=0) \n",
    "df1 = selectFlows(\"/home/ankit/Desktop/MTP/Database/CTU-13-Dataset/5/capture20110815-2.binetflow\")\n",
    "dfTrain = pd.concat([dfTrain,df1],axis=0) \n",
    "df1 = selectFlows(\"/home/ankit/Desktop/MTP/Database/CTU-13-Dataset/7/capture20110816-2.binetflow\")\n",
    "dfTrain = pd.concat([dfTrain,df1],axis=0) \n",
    "print len(dfTrain)\n",
    "df1 = selectFlows(\"/home/ankit/Desktop/MTP/Database/CTU-13-Dataset/10/capture20110818.binetflow\")\n",
    "dfTrain = pd.concat([dfTrain,df1],axis=0) \n",
    "df1 = selectFlows(\"/home/ankit/Desktop/MTP/Database/CTU-13-Dataset/11/capture20110818-2.binetflow\")\n",
    "dfTrain = pd.concat([dfTrain,df1],axis=0) \n",
    "df1 = selectFlows(\"/home/ankit/Desktop/MTP/Database/CTU-13-Dataset/12/capture20110819.binetflow\")\n",
    "dfTrain = pd.concat([dfTrain,df1],axis=0) \n",
    "df1 = selectFlows(\"/home/ankit/Desktop/MTP/Database/CTU-13-Dataset/13/capture20110815-3.binetflow\")\n",
    "dfTrain = pd.concat([dfTrain,df1],axis=0) \n",
    "\n",
    "\n",
    "df1 = pd.read_csv(\"/home/ankit/Desktop/MTP/working_directory/Binenetflow/ISCX_Botnet-Training.biargus.binetflow\")\n",
    "#Add Label to flows\n",
    "df1['Label'] = pd.Series(np.zeros(len(df1['Dur'])), index=df1.index)\n",
    "malicious_ips = \"192.168.2.112 131.202.243.84 192.168.5.122 198.164.30.2 192.168.2.110 192.168.4.118 192.168.2.113 192.168.1.103 192.168.4.120 192.168.2.112 192.168.2.109 192.168.2.105 147.32.84.180 147.32.84.170 147.32.84.150 147.32.84.140 147.32.84.130 147.32.84.160 10.0.2.15 192.168.106.141 192.168.106.131 172.16.253.130 172.16.253.131 172.16.253.129 172.16.253.240 74.78.117.238 158.65.110.24 192.168.3.35 192.168.3.25 192.168.3.65 172.29.0.116 172.29.0.109 172.16.253.132 192.168.248.165 10.37.130.4\"\n",
    "malicious_ips = malicious_ips.split()\n",
    "\n",
    "for i in malicious_ips:\n",
    "    df1.loc[df1[\"SrcAddr\"] == i,\"Label\"] = 1\n",
    "\n",
    "print len(dfTrain)"
   ]
  },
  {
   "cell_type": "code",
   "execution_count": 94,
   "metadata": {
    "collapsed": false
   },
   "outputs": [
    {
     "name": "stdout",
     "output_type": "stream",
     "text": [
      "52641\n"
     ]
    }
   ],
   "source": [
    "dfTest = pd.DataFrame()\n",
    "df1 = selectFlows(\"/home/ankit/Desktop/MTP/Database/CTU-13-Dataset/1/capture20110810.binetflow\")\n",
    "dfTest = pd.concat([dfTest,df1],axis=0) \n",
    "df1 = selectFlows(\"/home/ankit/Desktop/MTP/Database/CTU-13-Dataset/2/capture20110811.binetflow\")\n",
    "dfTest = pd.concat([dfTest,df1],axis=0) \n",
    "df1 = selectFlows(\"/home/ankit/Desktop/MTP/Database/CTU-13-Dataset/3/capture20110812.binetflow\")\n",
    "dfTest = pd.concat([dfTest,df1],axis=0) \n",
    "df1 = selectFlows(\"/home/ankit/Desktop/MTP/Database/CTU-13-Dataset/6/capture20110816.binetflow\")\n",
    "dfTest = pd.concat([dfTest,df1],axis=0) \n",
    "df1 = selectFlows(\"/home/ankit/Desktop/MTP/Database/CTU-13-Dataset/8/capture20110816-3.binetflow\")\n",
    "dfTest = pd.concat([dfTest,df1],axis=0) \n",
    "df1 = selectFlows(\"/home/ankit/Desktop/MTP/Database/CTU-13-Dataset/9/capture20110817.binetflow\")\n",
    "dfTest = pd.concat([dfTest,df1],axis=0)\n",
    "print len(dfTest)"
   ]
  },
  {
   "cell_type": "code",
   "execution_count": 95,
   "metadata": {
    "collapsed": false
   },
   "outputs": [],
   "source": [
    "def getXY(df):\n",
    "    temp = pd.get_dummies(df.Label)\n",
    "    temp = pd.DataFrame(temp)\n",
    "    Y = temp.as_matrix()\n",
    "    X = df.copy()\n",
    "    del X['Label']\n",
    "    X = (X - X.mean()) / (X.max() - X.min())\n",
    "    X = X.as_matrix()\n",
    "    return X,Y"
   ]
  },
  {
   "cell_type": "code",
   "execution_count": null,
   "metadata": {
    "collapsed": true
   },
   "outputs": [],
   "source": [
    "trainX, trainY = getXY(dfTest)\n",
    "\n",
    "testX, testY = getXY(dfTrain)"
   ]
  },
  {
   "cell_type": "code",
   "execution_count": null,
   "metadata": {
    "collapsed": false
   },
   "outputs": [
    {
     "data": {
      "image/png": "[encoded data removed]",
      "text/plain": [
       "<matplotlib.figure.Figure at 0x7f4789b8b790>"
      ]
     },
     "metadata": {},
     "output_type": "display_data"
    },
    {
     "name": "stdout",
     "output_type": "stream",
     "text": [
      " \r",
      "Iteration: 420 Loss: 0.151362848458 Train Accuracy: 0.94755 Test Accuracy: 0.783653"
     ]
    }
   ],
   "source": [
    "# Create model\n",
    "def multilayer_perceptron(x, weights, biases):\n",
    "    # Hidden layer with RELU activation\n",
    "    layer_1 = tf.add(tf.matmul(x, weights['h1']), biases['b1'])\n",
    "    layer_1 = tf.nn.relu(layer_1)\n",
    "    # Hidden layer with RELU activation\n",
    "    layer_2 = tf.add(tf.matmul(layer_1, weights['h2']), biases['b2'])\n",
    "    layer_2 = tf.nn.relu(layer_2)\n",
    "    # Hidden layer with RELU activation\n",
    "    layer_3 = tf.add(tf.matmul(layer_2, weights['h3']), biases['b3'])\n",
    "    layer_3 = tf.nn.relu(layer_3)\n",
    "    # Output layer with linear activation\n",
    "    out_layer = tf.matmul(layer_3, weights['out']) + biases['out']\n",
    "    return out_layer\n",
    "\n",
    "\n",
    "#Parameters\n",
    "learning_rate = 0.0001\n",
    "training_epochs = 500\n",
    "batch_size = 100\n",
    "display_step = 10\n",
    "\n",
    "#Betwork Parameters\n",
    "n_hidden_1 = 40\n",
    "n_hidden_2 = 30\n",
    "n_hidden_3 = 15\n",
    "n_input = 6\n",
    "n_classes = 2\n",
    "# tf Graph input\n",
    "x = tf.placeholder(\"float\", [None, n_input],'x')\n",
    "y = tf.placeholder(\"float\", [None, n_classes],'y')\n",
    "# Store layers weight & bias\n",
    "weights = {\n",
    "    'h1': tf.Variable(tf.random_normal([n_input, n_hidden_1]),name='wh1'),\n",
    "    'h2': tf.Variable(tf.random_normal([n_hidden_1, n_hidden_2]),name='wh2'),\n",
    "    'h3': tf.Variable(tf.random_normal([n_hidden_2, n_hidden_3]),name='wh3'),\n",
    "    'out': tf.Variable(tf.random_normal([n_hidden_3, n_classes]),name='wo')\n",
    "}\n",
    "biases = {\n",
    "    'b1': tf.Variable(tf.random_normal([n_hidden_1]),name='b1'),\n",
    "    'b2': tf.Variable(tf.random_normal([n_hidden_2]),name='b2'),\n",
    "    'b3': tf.Variable(tf.random_normal([n_hidden_3]),name='b3'),\n",
    "    'out': tf.Variable(tf.random_normal([n_classes]),name='bo')\n",
    "}\n",
    "    # Construct model\n",
    "pred = multilayer_perceptron(x, weights, biases)\n",
    "\n",
    "# Define loss and optimizer\n",
    "cost = tf.reduce_mean(tf.nn.softmax_cross_entropy_with_logits(logits=pred, labels=y))\n",
    "optimizer = tf.train.AdamOptimizer(learning_rate=learning_rate).minimize(cost)\n",
    "# Initializing the variables\n",
    "init = tf.initialize_all_variables()\n",
    "\n",
    "# Test model\n",
    "correct_prediction = tf.equal(tf.argmax(pred, 1), tf.argmax(y, 1))\n",
    "# Calculate accuracy\n",
    "accuracy = tf.reduce_mean(tf.cast(correct_prediction, \"float\"))\n",
    "    \n",
    "#Launch the graph\n",
    "with tf.Session() as sess:\n",
    "    sess.run(init)\n",
    "# Training cycle\n",
    "    for epoch in range(training_epochs):\n",
    "        avg_cost = 0.\n",
    "        total_batch = int(len(trainX)/batch_size)\n",
    "        # Loop over all batches\n",
    "        for i in range(total_batch):\n",
    "            n = min(batch_size, len(trainX)-i*batch_size)\n",
    "            batch_x = trainX[i*batch_size:i*batch_size+n]\n",
    "            batch_y = trainY[i*batch_size:i*batch_size+n]\n",
    "            # Run optimization op (backprop) and cost op (to get loss value)\n",
    "            _, c = sess.run([optimizer, cost], feed_dict={x: batch_x,\n",
    "                                                          y: batch_y})\n",
    "            # Compute average loss\n",
    "            avg_cost += c / total_batch\n",
    "        # Display logs per epoch step\n",
    "        if epoch % display_step == 0:\n",
    "            # Calculate batch accuracy\n",
    "            Train_accuracy = accuracy.eval({x: trainX, y: trainY})\n",
    "            # Calculate batch loss\n",
    "            loss = avg_cost\n",
    "            #testX = testX.reshape(-1,seq_max_len,n_input)\n",
    "            Test_accuracy=accuracy.eval({x: testX, y: testY})    \n",
    "            #pl.plot([epoch],loss,'b.',)\n",
    "            pl.plot([epoch],Train_accuracy,'r*',)\n",
    "            pl.plot([epoch],Test_accuracy,'g+')\n",
    "            display.clear_output(wait=True)\n",
    "            display.display(pl.gcf())   \n",
    "            sys.stdout.flush()\n",
    "            print(\"\\rIteration: %s Loss: %s Train Accuracy: %s Test Accuracy: %s\"%(epoch,loss,Train_accuracy,Test_accuracy)),\n",
    "            sys.stdout.flush()\n",
    "    print(\"Optimization Finished!\")\n",
    "    \n",
    "    print(\"Accuracy:\", accuracy.eval({x: testX, y: testY}))\n",
    "    prediction=tf.argmax(pred,1)\n",
    "    out =  prediction.eval(feed_dict={x: testX})"
   ]
  },
  {
   "cell_type": "code",
   "execution_count": null,
   "metadata": {
    "collapsed": false
   },
   "outputs": [],
   "source": [
    "from sklearn.metrics import confusion_matrix\n",
    "confusion_matrix(out, dfTrain['Label']) #0 = normal"
   ]
  },
  {
   "cell_type": "code",
   "execution_count": 35,
   "metadata": {
    "collapsed": false
   },
   "outputs": [],
   "source": []
  },
  {
   "cell_type": "code",
   "execution_count": 36,
   "metadata": {
    "collapsed": false
   },
   "outputs": [
    {
     "data": {
      "text/html": [
       "<div>\n",
       "<table border=\"1\" class=\"dataframe\">\n",
       "  <thead>\n",
       "    <tr style=\"text-align: right;\">\n",
       "      <th></th>\n",
       "      <th>Sport</th>\n",
       "      <th>udest_ip</th>\n",
       "      <th>udest_port</th>\n",
       "      <th>netflows</th>\n",
       "      <th>bytes</th>\n",
       "      <th>packets</th>\n",
       "      <th>Label</th>\n",
       "    </tr>\n",
       "    <tr>\n",
       "      <th>SrcAddr</th>\n",
       "      <th></th>\n",
       "      <th></th>\n",
       "      <th></th>\n",
       "      <th></th>\n",
       "      <th></th>\n",
       "      <th></th>\n",
       "      <th></th>\n",
       "    </tr>\n",
       "  </thead>\n",
       "  <tbody>\n",
       "    <tr>\n",
       "      <th>147.32.80.7</th>\n",
       "      <td>1</td>\n",
       "      <td>1</td>\n",
       "      <td>1</td>\n",
       "      <td>1</td>\n",
       "      <td>30639</td>\n",
       "      <td>52</td>\n",
       "      <td>False</td>\n",
       "    </tr>\n",
       "    <tr>\n",
       "      <th>147.32.84.229</th>\n",
       "      <td>1</td>\n",
       "      <td>115</td>\n",
       "      <td>115</td>\n",
       "      <td>115</td>\n",
       "      <td>123399</td>\n",
       "      <td>800</td>\n",
       "      <td>False</td>\n",
       "    </tr>\n",
       "    <tr>\n",
       "      <th>147.32.85.30</th>\n",
       "      <td>3</td>\n",
       "      <td>5</td>\n",
       "      <td>5</td>\n",
       "      <td>5</td>\n",
       "      <td>23974</td>\n",
       "      <td>52</td>\n",
       "      <td>False</td>\n",
       "    </tr>\n",
       "    <tr>\n",
       "      <th>147.32.84.229</th>\n",
       "      <td>1</td>\n",
       "      <td>68</td>\n",
       "      <td>68</td>\n",
       "      <td>68</td>\n",
       "      <td>107652</td>\n",
       "      <td>601</td>\n",
       "      <td>False</td>\n",
       "    </tr>\n",
       "    <tr>\n",
       "      <th>147.32.84.59</th>\n",
       "      <td>63</td>\n",
       "      <td>24</td>\n",
       "      <td>12</td>\n",
       "      <td>64</td>\n",
       "      <td>1596549</td>\n",
       "      <td>1963</td>\n",
       "      <td>False</td>\n",
       "    </tr>\n",
       "    <tr>\n",
       "      <th>147.32.85.7</th>\n",
       "      <td>9</td>\n",
       "      <td>4</td>\n",
       "      <td>2</td>\n",
       "      <td>9</td>\n",
       "      <td>17577</td>\n",
       "      <td>59</td>\n",
       "      <td>False</td>\n",
       "    </tr>\n",
       "    <tr>\n",
       "      <th>147.32.84.229</th>\n",
       "      <td>1</td>\n",
       "      <td>133</td>\n",
       "      <td>132</td>\n",
       "      <td>134</td>\n",
       "      <td>209570</td>\n",
       "      <td>1446</td>\n",
       "      <td>False</td>\n",
       "    </tr>\n",
       "  </tbody>\n",
       "</table>\n",
       "</div>"
      ],
      "text/plain": [
       "               Sport  udest_ip  udest_port  netflows    bytes  packets  Label\n",
       "SrcAddr                                                                      \n",
       "147.32.80.7        1         1           1         1    30639       52  False\n",
       "147.32.84.229      1       115         115       115   123399      800  False\n",
       "147.32.85.30       3         5           5         5    23974       52  False\n",
       "147.32.84.229      1        68          68        68   107652      601  False\n",
       "147.32.84.59      63        24          12        64  1596549     1963  False\n",
       "147.32.85.7        9         4           2         9    17577       59  False\n",
       "147.32.84.229      1       133         132       134   209570     1446  False"
      ]
     },
     "execution_count": 36,
     "metadata": {},
     "output_type": "execute_result"
    }
   ],
   "source": [
    "dft"
   ]
  },
  {
   "cell_type": "code",
   "execution_count": null,
   "metadata": {
    "collapsed": true
   },
   "outputs": [],
   "source": []
  }
 ],
 "metadata": {
  "anaconda-cloud": {},
  "kernelspec": {
   "display_name": "Python 2",
   "language": "python",
   "name": "python2"
  },
  "language_info": {
   "codemirror_mode": {
    "name": "ipython",
    "version": 2
   },
   "file_extension": ".py",
   "mimetype": "text/x-python",
   "name": "python",
   "nbconvert_exporter": "python",
   "pygments_lexer": "ipython2",
   "version": "2.7.13"
  }
 },
 "nbformat": 4,
 "nbformat_minor": 1
}
