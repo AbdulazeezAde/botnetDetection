{
 "cells": [
  {
   "cell_type": "code",
   "execution_count": 14,
   "metadata": {
    "collapsed": false
   },
   "outputs": [
    {
     "name": "stdout",
     "output_type": "stream",
     "text": [
      "\n"
     ]
    }
   ],
   "source": [
    "import numpy as np\n",
    "import tensorflow as tf\n",
    "from sklearn import datasets\n",
    "from sklearn.cross_validation import train_test_split\n",
    "import pylab as pl\n",
    "from IPython import display\n",
    "import pandas as pd\n",
    "import sys\n",
    "%matplotlib inline\n",
    "seq_max_len = 1\n",
    "n_input = 8"
   ]
  },
  {
   "cell_type": "code",
   "execution_count": 15,
   "metadata": {
    "collapsed": false
   },
   "outputs": [
    {
     "name": "stdout",
     "output_type": "stream",
     "text": [
      "(241859, 8)\n",
      "(241859, 1, 8)\n",
      "(241859, 2)\n"
     ]
    },
    {
     "name": "stderr",
     "output_type": "stream",
     "text": [
      "/home/ankit/anaconda2/lib/python2.7/site-packages/ipykernel/__main__.py:40: FutureWarning: convert_objects is deprecated.  Use the data-type specific converters pd.to_datetime, pd.to_timedelta and pd.to_numeric.\n"
     ]
    }
   ],
   "source": [
    "dfTrain = pd.read_csv(\"/home/ankit/Desktop/MTP/working_directory/Binenetflow/ISCX_Botnet-Testing.biargus.binenetflow\")\n",
    "#df1 = pd.read_csv(\"/home/ankit/Desktop/MTP/working_directory/Binenetflow/ISCX_Botnet-Testing.biargus.binenetflow\")\n",
    "#dfTrain = pd.DataFrame.append(dfTrain,df1)\n",
    "#Add Label to flows\n",
    "dfTrain['Label'] = pd.Series(np.zeros(len(dfTrain['Dur'])), index=dfTrain.index)\n",
    "malicious_ips = \"192.168.2.112 131.202.243.84 192.168.5.122 198.164.30.2 192.168.2.110 192.168.4.118 192.168.2.113 192.168.1.103 192.168.4.120 192.168.2.112 192.168.2.109 192.168.2.105 147.32.84.180 147.32.84.170 147.32.84.150 147.32.84.140 147.32.84.130 147.32.84.160 10.0.2.15 192.168.106.141 192.168.106.131 172.16.253.130 172.16.253.131 172.16.253.129 172.16.253.240 74.78.117.238 158.65.110.24 192.168.3.35 192.168.3.25 192.168.3.65 172.29.0.116 172.29.0.109 172.16.253.132 192.168.248.165 10.37.130.4\"\n",
    "malicious_ips = malicious_ips.split()\n",
    "\n",
    "for i in malicious_ips:\n",
    "    dfTrain.loc[dfTrain[\"SrcAddr\"] == i,\"Label\"] = 1\n",
    "\n",
    "dfsTrain = pd.DataFrame()\n",
    "dfsTrain['Dur'] = dfTrain['Dur']\n",
    "dfsTrain['Label'] = dfTrain['Label']\n",
    "#dfsTrain['SrcAddr'] = dfTrain['SrcAddr']\n",
    "#dfsTrain['DstAddr'] = dfTrain['DstAddr']\n",
    "\n",
    "#dfsTrain['Sport'] = dfTrain['Sport']\n",
    "#dfsTrain['Dport'] = dfTrain['Dport']\n",
    "dfsTrain['SrcBytes'] = dfTrain['SrcBytes']\n",
    "dfsTrain['TotBytes'] = dfTrain['TotBytes']\n",
    "dfsTrain['TotPkts'] = dfTrain['TotPkts']\n",
    "dfsTrain['sTos'] = dfTrain['sTos']\n",
    "dfsTrain['dTos'] = dfTrain['dTos']\n",
    "#dfsTrain['Proto'] = dfTrain['Proto']\n",
    "# dfsTrain['sTtl'] = dfTrain['sTtl']\n",
    "# dfsTrain['dTtl'] = df/Train['dTtl']\n",
    "# dfsTrain['sHops'] = dfTrain['sHops']\n",
    "# dfsTrain['dHops'] = dfTrain['dHops']\n",
    "#Dir State\n",
    "# temp = pd.get_dummies(dfTrain.Dir)\n",
    "# print temp.columns\n",
    "# del temp['  <-']\n",
    "# dfsTrain = pd.concat([dfsTrain,temp],axis=1)\n",
    "\n",
    "temp = pd.get_dummies(dfTrain.Proto)\n",
    "dfsTrain['tcp'] = temp.tcp\n",
    "dfsTrain['udp'] = temp.udp\n",
    "del dfTrain\n",
    "dfsTrain = dfsTrain.convert_objects(convert_numeric=True)\n",
    "dfsTrain = dfsTrain.fillna(0)\n",
    "trainX = dfsTrain.copy()\n",
    "trainY = pd.get_dummies(dfsTrain.Label)\n",
    "trainY = trainY.as_matrix()\n",
    "del trainX['Label']\n",
    "trainX = trainX.as_matrix()\n",
    "print trainX.shape\n",
    "trainX = trainX.reshape(-1,seq_max_len,n_input)\n",
    "print trainX.shape\n",
    "print trainY.shape"
   ]
  },
  {
   "cell_type": "code",
   "execution_count": null,
   "metadata": {
    "collapsed": false
   },
   "outputs": [],
   "source": []
  },
  {
   "cell_type": "code",
   "execution_count": 16,
   "metadata": {
    "collapsed": false
   },
   "outputs": [
    {
     "name": "stdout",
     "output_type": "stream",
     "text": [
      "(248164, 1, 8)\n",
      "(248164, 2)\n"
     ]
    },
    {
     "name": "stderr",
     "output_type": "stream",
     "text": [
      "/home/ankit/anaconda2/lib/python2.7/site-packages/ipykernel/__main__.py:33: FutureWarning: convert_objects is deprecated.  Use the data-type specific converters pd.to_datetime, pd.to_timedelta and pd.to_numeric.\n"
     ]
    }
   ],
   "source": [
    "dfTest = pd.read_csv(\"/home/ankit/Desktop/MTP/working_directory/Binenetflow/ISCX_Botnet-Training.biargus.binetflow\")\n",
    "#Add Label to flows\n",
    "dfTest['Label'] = pd.Series(np.zeros(len(dfTest['Dur'])), index=dfTest.index)\n",
    "malicious_ips = \"192.168.2.112 131.202.243.84 192.168.5.122 198.164.30.2 192.168.2.110 192.168.4.118 192.168.2.113 192.168.1.103 192.168.4.120 192.168.2.112 192.168.2.109 192.168.2.105 147.32.84.180 147.32.84.170 147.32.84.150 147.32.84.140 147.32.84.130 147.32.84.160 10.0.2.15 192.168.106.141 192.168.106.131 172.16.253.130 172.16.253.131 172.16.253.129 172.16.253.240 74.78.117.238 158.65.110.24 192.168.3.35 192.168.3.25 192.168.3.65 172.29.0.116 172.29.0.109 172.16.253.132 192.168.248.165 10.37.130.4\"\n",
    "malicious_ips = malicious_ips.split()\n",
    "\n",
    "for i in malicious_ips:\n",
    "    dfTest.loc[dfTest[\"SrcAddr\"] == i,\"Label\"] = 1\n",
    "\n",
    "dfsTest = pd.DataFrame()\n",
    "dfsTest['Dur'] = dfTest['Dur']\n",
    "dfsTest['Label'] = dfTest['Label']\n",
    "#dfsTest['Sport'] = dfTest['Sport']\n",
    "#dfsTest['Dport'] = dfTest['Dport']\n",
    "dfsTest['SrcBytes'] = dfTest['SrcBytes']\n",
    "dfsTest['TotBytes'] = dfTest['TotBytes']\n",
    "dfsTest['TotPkts'] = dfTest['TotPkts']\n",
    "dfsTest['sTos'] = dfTest['sTos']\n",
    "dfsTest['dTos'] = dfTest['dTos']\n",
    "# dfsTest['sTtl'] = dfTest['sTtl']\n",
    "# dfsTest['dTtl'] = dfTest['dTtl']\n",
    "#dfsTest['sHops'] = dfTest['sHops']\n",
    "#dfsTest['dHops'] = dfTest['dHops']\n",
    "# temp = pd.get_dummies(dfTest.Dir)\n",
    "# #del temp['  <-']\n",
    "# print temp.columns\n",
    "# dfsTest = pd.concat([dfsTest,temp],axis=1)\n",
    "\n",
    "temp = pd.get_dummies(dfTest.Proto)\n",
    "dfsTest['tcp'] = temp.tcp\n",
    "dfsTest['udp'] = temp.udp\n",
    "del dfTest\n",
    "dfsTest = dfsTest.convert_objects(convert_numeric=True)\n",
    "\n",
    "dfsTest = dfsTest.fillna(0)\n",
    "testX = dfsTest\n",
    "testY = pd.get_dummies(testX.Label)\n",
    "testY = testY.as_matrix()\n",
    "del testX['Label']\n",
    "testX = testX.as_matrix()\n",
    "testX = testX.reshape(-1,seq_max_len,n_input)\n",
    "print testX.shape\n",
    "print testY.shape"
   ]
  },
  {
   "cell_type": "code",
   "execution_count": 17,
   "metadata": {
    "collapsed": false
   },
   "outputs": [],
   "source": [
    "# df = dfsTest\n",
    "# total_batch = int(len(df)/seq_max_len)\n",
    "# # Loop over all batches\n",
    "# X = np.empty(shape=(0,seq_max_len,n_input))\n",
    "# Y = np.empty(shape=(0,2))\n",
    "# L = np.empty(shape=(0,))\n",
    "# for i in range(total_batch):\n",
    "#     n = min(seq_max_len, len(df)-i*seq_max_len)\n",
    "#     batch_x, batch_y, batch_len = getDesired(df[i*seq_max_len:i*seq_max_len+n])\n",
    "#     X = np.concatenate((X, batch_x))\n",
    "#     Y = np.concatenate((Y, batch_y))\n",
    "#     L = np.concatenate((L, batch_len))\n",
    "\n",
    "# testX = X\n",
    "# testY = Y\n",
    "# testL = L\n",
    "# print testX.shape\n",
    "# print testY.shape\n",
    "# print testL.shape"
   ]
  },
  {
   "cell_type": "code",
   "execution_count": 23,
   "metadata": {
    "collapsed": false
   },
   "outputs": [
    {
     "name": "stderr",
     "output_type": "stream",
     "text": [
      "WARNING:tensorflow:<tensorflow.python.ops.rnn_cell.BasicLSTMCell object at 0x7fa92f5375d0>: Using a concatenated state is slower and will soon be deprecated.  Use state_is_tuple=True.\n"
     ]
    },
    {
     "name": "stdout",
     "output_type": "stream",
     "text": [
      "\n"
     ]
    }
   ],
   "source": [
    "graph = tf.Graph()\n",
    "with graph.as_default():\n",
    "    # Parameters\n",
    "    learning_rate = 0.001\n",
    "    training_iters = 20\n",
    "    batch_size = 400\n",
    "    display_step = 1\n",
    "\n",
    "    # Network Parameters\n",
    "    n_input = 8\n",
    "    seq_max_len = 1 # Sequence max lengths\n",
    "    n_hidden = 40 #hidden layer num of features\n",
    "    n_classes = 2 # MNIST total classes (0-9 digits)\n",
    "    n_layers = 4\n",
    "    # tf Graph input\n",
    "    x = tf.placeholder(\"float\", [None, seq_max_len, n_input])\n",
    "    y = tf.placeholder(\"float\", [None, n_classes])\n",
    "    \n",
    "    # Define weights\n",
    "    weights = {\n",
    "        # Hidden layer weights => 2*n_hidden because of forward + backward cells\n",
    "        'out': tf.Variable(tf.random_normal([n_hidden, n_classes]))\n",
    "    }\n",
    "    biases = {\n",
    "        'out': tf.Variable(tf.random_normal([n_classes]))\n",
    "    }\n",
    "\n",
    "    def RNN(x, weights, biases):\n",
    "\n",
    "        # Prepare data shape to match `bidirectional_rnn` function requirements\n",
    "        # Current data input shape: (batch_size, n_steps, n_input)\n",
    "        # Required shape: 'n_steps' tensors list of shape (batch_size, n_input)\n",
    "\n",
    "        # Permuting batch_size and n_steps\n",
    "        x = tf.transpose(x, [1, 0, 2])\n",
    "        # Reshape to (n_steps*batch_size, n_input)\n",
    "        x = tf.reshape(x, [-1, n_input])\n",
    "        # Split to get a list of 'n_steps' tensors of shape (batch_size, n_input)\n",
    "        x = tf.split(0, seq_max_len, x)\n",
    "\n",
    "        # Define lstm cell with tensorflow\n",
    "        lstm_cell = tf.nn.rnn_cell.BasicLSTMCell(n_hidden, forget_bias=1.0)\n",
    "        cell = tf.nn.rnn_cell.MultiRNNCell([lstm_cell] * n_layers)\n",
    "        #initial_state = lstm_cell.zero_state(batch_size, tf.float32)\n",
    "        # Get lstm cell output\n",
    "        outputs, _ = tf.nn.rnn(cell, x, dtype=tf.float32)\n",
    "        # Linear activation, using rnn inner loop last output\n",
    "        return tf.matmul(outputs[-1], weights['out']) + biases['out']\n",
    "\n",
    "    pred = RNN(x, weights, biases)\n",
    "\n",
    "    # Define loss and optimizer\n",
    "    cost = tf.reduce_mean(tf.nn.softmax_cross_entropy_with_logits(logits=pred, labels=y))\n",
    "    optimizer = tf.train.AdamOptimizer(learning_rate=learning_rate).minimize(cost)\n",
    "\n",
    "    # Evaluate model\n",
    "    correct_pred = tf.equal(tf.argmax(pred,1), tf.argmax(y,1))\n",
    "    accuracy = tf.reduce_mean(tf.cast(correct_pred, tf.float32))"
   ]
  },
  {
   "cell_type": "code",
   "execution_count": null,
   "metadata": {
    "collapsed": false
   },
   "outputs": [],
   "source": []
  },
  {
   "cell_type": "code",
   "execution_count": 24,
   "metadata": {
    "collapsed": false
   },
   "outputs": [
    {
     "data": {
      "image/png": "[encoded data removed]",
      "text/plain": [
       "<matplotlib.figure.Figure at 0x7fa92e849050>"
      ]
     },
     "metadata": {},
     "output_type": "display_data"
    },
    {
     "name": "stdout",
     "output_type": "stream",
     "text": [
      "Iteration: 19 Loss: 0.764554 Train Accuracy: 0.603058 Test Accuracy: 0.576856 Optimization Finished!\n",
      "('Training Accuracy:', 0.60305798)\n",
      "('Testing Accuracy:', 0.57685643)\n"
     ]
    },
    {
     "data": {
      "image/png": "[encoded data removed]",
      "text/plain": [
       "<matplotlib.figure.Figure at 0x7fa92e849050>"
      ]
     },
     "metadata": {},
     "output_type": "display_data"
    }
   ],
   "source": [
    "# Launch the graph\n",
    "with tf.Session(graph=graph) as sess:\n",
    "    # Initializing the variables\n",
    "    init = tf.initialize_all_variables()\n",
    "    sess.run(init)\n",
    "    # Keep training until reach max iterations\n",
    "    for iters in range(training_iters):\n",
    "        total_batch = int(len(trainX)/batch_size)\n",
    "        # Loop over all batches\n",
    "        for i in range(total_batch):\n",
    "            n = min(batch_size, len(trainX)-i*batch_size)\n",
    "            batch_x= trainX[i*batch_size:i*batch_size+n]\n",
    "            batch_y =trainY[i*batch_size:i*batch_size+n]\n",
    "            sess.run(optimizer, feed_dict={x: batch_x, y: batch_y})\n",
    "        if iters % display_step == 0:\n",
    "            # Calculate batch accuracy\n",
    "            Train_accuracy = sess.run(accuracy, feed_dict={x: trainX, y: trainY})\n",
    "            # Calculate batch loss\n",
    "            loss = sess.run(cost, feed_dict={x: trainX, y: trainY})\n",
    "            #testX = testX.reshape(-1,seq_max_len,n_input)\n",
    "            Test_accuracy=str(sess.run(accuracy,feed_dict={x:testX, y:testY}))    \n",
    "            pl.plot([iters],loss,'b.',)\n",
    "            pl.plot([iters],Train_accuracy,'r*',)\n",
    "            pl.plot([iters],Test_accuracy,'g+')\n",
    "            display.clear_output(wait=True)\n",
    "            display.display(pl.gcf())   \n",
    "            sys.stdout.flush()\n",
    "            print(\"\\rIteration: %s Loss: %s Train Accuracy: %s Test Accuracy: %s\"%(iters,loss,Train_accuracy,Test_accuracy)),\n",
    "            sys.stdout.flush()\n",
    "    print(\"Optimization Finished!\")\n",
    "    \n",
    "    print(\"Training Accuracy:\", \\\n",
    "    sess.run(accuracy, feed_dict={x:trainX, y:trainY}))\n",
    "\n",
    "    print(\"Testing Accuracy:\", \\\n",
    "    sess.run(accuracy, feed_dict={x:testX, y:testY}))\n",
    "    prediction=tf.argmax(pred,1)\n",
    "    out =  prediction.eval(feed_dict={x: testX})"
   ]
  },
  {
   "cell_type": "code",
   "execution_count": 25,
   "metadata": {
    "collapsed": false
   },
   "outputs": [
    {
     "data": {
      "text/plain": [
       "array([[ 36010,  40141],\n",
       "       [ 64868, 107145]])"
      ]
     },
     "execution_count": 25,
     "metadata": {},
     "output_type": "execute_result"
    }
   ],
   "source": [
    "from sklearn.metrics import confusion_matrix\n",
    "confusion_matrix(out, np.argmax(testY,1)) #0 = normal"
   ]
  },
  {
   "cell_type": "code",
   "execution_count": 134,
   "metadata": {
    "collapsed": false
   },
   "outputs": [
    {
     "data": {
      "text/plain": [
       "array([ 99675, 142184], dtype=uint64)"
      ]
     },
     "execution_count": 134,
     "metadata": {},
     "output_type": "execute_result"
    }
   ],
   "source": [
    "testY.sum(axis=0)"
   ]
  },
  {
   "cell_type": "code",
   "execution_count": null,
   "metadata": {
    "collapsed": false
   },
   "outputs": [],
   "source": []
  },
  {
   "cell_type": "code",
   "execution_count": null,
   "metadata": {
    "collapsed": false
   },
   "outputs": [],
   "source": []
  },
  {
   "cell_type": "code",
   "execution_count": null,
   "metadata": {
    "collapsed": true
   },
   "outputs": [],
   "source": []
  }
 ],
 "metadata": {
  "kernelspec": {
   "display_name": "Python 2",
   "language": "python",
   "name": "python2"
  },
  "language_info": {
   "codemirror_mode": {
    "name": "ipython",
    "version": 2
   },
   "file_extension": ".py",
   "mimetype": "text/x-python",
   "name": "python",
   "nbconvert_exporter": "python",
   "pygments_lexer": "ipython2",
   "version": "2.7.13"
  }
 },
 "nbformat": 4,
 "nbformat_minor": 2
}
