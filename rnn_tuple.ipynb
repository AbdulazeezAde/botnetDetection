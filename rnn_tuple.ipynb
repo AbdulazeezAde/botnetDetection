{
 "cells": [
  {
   "cell_type": "code",
   "execution_count": 10,
   "metadata": {
    "collapsed": false
   },
   "outputs": [],
   "source": [
    "import numpy as np\n",
    "import tensorflow as tf\n",
    "from sklearn import datasets\n",
    "from sklearn.cross_validation import train_test_split\n",
    "import pylab as pl\n",
    "from IPython import display\n",
    "import pandas as pd\n",
    "import sys\n",
    "%matplotlib inline\n",
    "\n",
    "def getvalue(a):\n",
    "    return a.value/10000000"
   ]
  },
  {
   "cell_type": "code",
   "execution_count": 20,
   "metadata": {
    "collapsed": false
   },
   "outputs": [
    {
     "name": "stderr",
     "output_type": "stream",
     "text": [
      "/home/ankit/anaconda2/lib/python2.7/site-packages/ipykernel/__main__.py:33: FutureWarning: convert_objects is deprecated.  Use the data-type specific converters pd.to_datetime, pd.to_timedelta and pd.to_numeric.\n"
     ]
    }
   ],
   "source": [
    "dfTrain = pd.read_csv(\"/home/ankit/Desktop/MTP/working_directory/Binenetflow/ISCX_Botnet-Training.biargus.binetflow\")\n",
    "#df1 = pd.read_csv(\"/home/ankit/Desktop/MTP/working_directory/Binenetflow/ISCX_Botnet-Testing.biargus.binenetflow\")\n",
    "#dfTrain = pd.DataFrame.append(dfTrain,df1)\n",
    "#Add Label to flows\n",
    "dfTrain['Label'] = pd.Series(np.zeros(len(dfTrain['Dur'])), index=dfTrain.index)\n",
    "malicious_ips = \"192.168.2.112 131.202.243.84 192.168.5.122 198.164.30.2 192.168.2.110 192.168.4.118 192.168.2.113 192.168.1.103 192.168.4.120 192.168.2.112 192.168.2.109 192.168.2.105 147.32.84.180 147.32.84.170 147.32.84.150 147.32.84.140 147.32.84.130 147.32.84.160 10.0.2.15 192.168.106.141 192.168.106.131 172.16.253.130 172.16.253.131 172.16.253.129 172.16.253.240 74.78.117.238 158.65.110.24 192.168.3.35 192.168.3.25 192.168.3.65 172.29.0.116 172.29.0.109 172.16.253.132 192.168.248.165 10.37.130.4\"\n",
    "malicious_ips = malicious_ips.split()\n",
    "\n",
    "for i in malicious_ips:\n",
    "    dfTrain.loc[dfTrain[\"SrcAddr\"] == i,\"Label\"] = 1\n",
    "dfsTrain = pd.DataFrame()\n",
    "dfsTrain['StartTime']=pd.to_datetime(dfTrain.StartTime, format='%Y-%m-%dT%H:%M:%S').apply(getvalue)\n",
    "dfsTrain['StartTime'] = (dfsTrain['StartTime'] - dfsTrain.StartTime.mean())/(dfsTrain.StartTime.max() - dfsTrain.StartTime.min())\n",
    "dfsTrain['SrcAddr'] = dfTrain['SrcAddr']\n",
    "dfsTrain['Dur'] = dfTrain['Dur']\n",
    "dfsTrain['Label'] = dfTrain['Label']\n",
    "dfsTrain['SrcBytes'] = dfTrain['SrcBytes']\n",
    "dfsTrain['TotBytes'] = dfTrain['TotBytes']\n",
    "dfsTrain['TotPkts'] = dfTrain['TotPkts']\n",
    "dfsTrain['sTos'] = dfTrain['sTos']\n",
    "dfsTrain['dTos'] = dfTrain['dTos']\n",
    "dfsTrain\n",
    "# #Dir State\n",
    "# temp = pd.get_dummies(dfTrain.Dir)\n",
    "# print temp.columns\n",
    "# #del temp['  <-']\n",
    "# dfsTrain = pd.concat([dfsTrain,temp],axis=1)\n",
    "\n",
    "temp = pd.get_dummies(dfTrain.Proto)\n",
    "dfsTrain['tcp'] = temp.tcp\n",
    "dfsTrain['udp'] = temp.udp\n",
    "del dfTrain\n",
    "dfsTrain = dfsTrain.convert_objects(convert_numeric=True)\n",
    "dfsTrain = dfsTrain.fillna(0)"
   ]
  },
  {
   "cell_type": "code",
   "execution_count": null,
   "metadata": {
    "collapsed": true
   },
   "outputs": [],
   "source": []
  },
  {
   "cell_type": "code",
   "execution_count": null,
   "metadata": {
    "collapsed": false
   },
   "outputs": [],
   "source": []
  },
  {
   "cell_type": "code",
   "execution_count": 15,
   "metadata": {
    "collapsed": false
   },
   "outputs": [
    {
     "data": {
      "text/plain": [
       "0         0.0\n",
       "1         0.0\n",
       "2         0.0\n",
       "3         0.0\n",
       "4         0.0\n",
       "5         0.0\n",
       "6         0.0\n",
       "7         0.0\n",
       "8         0.0\n",
       "9         0.0\n",
       "10        0.0\n",
       "11        0.0\n",
       "12        0.0\n",
       "13        0.0\n",
       "14        0.0\n",
       "15        0.0\n",
       "16        0.0\n",
       "17        0.0\n",
       "18        0.0\n",
       "19        0.0\n",
       "20        0.0\n",
       "21        0.0\n",
       "22        0.0\n",
       "23        0.0\n",
       "24        0.0\n",
       "25        0.0\n",
       "26        0.0\n",
       "27        0.0\n",
       "28        0.0\n",
       "29        0.0\n",
       "         ... \n",
       "248134    0.0\n",
       "248135    0.0\n",
       "248136    0.0\n",
       "248137    0.0\n",
       "248138    0.0\n",
       "248139    0.0\n",
       "248140    0.0\n",
       "248141    0.0\n",
       "248142    0.0\n",
       "248143    0.0\n",
       "248144    0.0\n",
       "248145    0.0\n",
       "248146    0.0\n",
       "248147    0.0\n",
       "248148    0.0\n",
       "248149    0.0\n",
       "248150    0.0\n",
       "248151    0.0\n",
       "248152    0.0\n",
       "248153    0.0\n",
       "248154    0.0\n",
       "248155    0.0\n",
       "248156    0.0\n",
       "248157    0.0\n",
       "248158    0.0\n",
       "248159    0.0\n",
       "248160    0.0\n",
       "248161    0.0\n",
       "248162    0.0\n",
       "248163    0.0\n",
       "Name: StartTime, dtype: float64"
      ]
     },
     "execution_count": 15,
     "metadata": {},
     "output_type": "execute_result"
    }
   ],
   "source": []
  },
  {
   "cell_type": "code",
   "execution_count": null,
   "metadata": {
    "collapsed": true
   },
   "outputs": [],
   "source": []
  }
 ],
 "metadata": {
  "kernelspec": {
   "display_name": "Python 2",
   "language": "python",
   "name": "python2"
  },
  "language_info": {
   "codemirror_mode": {
    "name": "ipython",
    "version": 2
   },
   "file_extension": ".py",
   "mimetype": "text/x-python",
   "name": "python",
   "nbconvert_exporter": "python",
   "pygments_lexer": "ipython2",
   "version": "2.7.13"
  }
 },
 "nbformat": 4,
 "nbformat_minor": 2
}
